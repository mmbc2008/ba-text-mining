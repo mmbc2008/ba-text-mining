{
 "cells": [
  {
   "cell_type": "markdown",
   "metadata": {},
   "source": [
    "# Lab3.4 Sentiment Classification using transformer models"
   ]
  },
  {
   "cell_type": "markdown",
   "metadata": {},
   "source": [
    "Copyright: Vrije Universiteit Amsterdam, Faculty of Humanities, CLTL"
   ]
  },
  {
   "cell_type": "markdown",
   "metadata": {},
   "source": [
    "This notebook explains how you can use a transformer model that is fine-tuned for sentiment analysis. Fine-tuned transformer models are published regularly on the huggingface platform: https://huggingface.co/models\n",
    "\n",
    "These models are very big (Gigabytes) and require a computer with sufficient memory to load. Furthermore, loading these models takes some time as well. It is also possible to copy such a model to your disk and to load the local copy. Still a substantial memory is needed to load it."
   ]
  },
  {
   "cell_type": "markdown",
   "metadata": {},
   "source": [
    "This notebook requires installing some deep learning packages: transformers, pytorch and simpletransformers. If you are not experienced with installing these packages, make sure you first define a virtual environment for python, activate this environment and install the packages in this enviroment.\n",
    "\n",
    "Please consult the Python documentation for installing such an enviroment:\n",
    "\n",
    "https://docs.python.org/3/library/venv.html\n",
    "\n",
    "After activating your enviroment you can install pytorch, transformers and simpletransformers from the command line. If you start this notebook within the same virtual environment you can also execute the next installation commands from your notebook. Once installed, you can comment out the next cell."
   ]
  },
  {
   "cell_type": "code",
   "execution_count": 2,
   "metadata": {},
   "outputs": [],
   "source": [
    "#!conda install pytorch cpuonly -c pytorch\n",
    "#!pip install transformers\n",
    "#!pip install simpletransformers"
   ]
  },
  {
   "cell_type": "markdown",
   "metadata": {},
   "source": [
    "Huggingface transfomers provides an option to create a **pipeline** to perform a NLP task with a pretrained model: \n",
    "\n",
    "\"The pipelines are a great and easy way to use models for inference. These pipelines are objects that abstract most of the complex code from the library, offering a simple API dedicated to several tasks, including Named Entity Recognition, Masked Language Modeling, Sentiment Analysis, Feature Extraction and Question Answering.\"\n",
    "\n",
    "More information can be found here: https://huggingface.co/transformers/v3.0.2/main_classes/pipelines.html\n",
    "\n",
    "We will use the pipeline module to load a fine-tuned model to perform senteiment analysis"
   ]
  },
  {
   "cell_type": "code",
   "execution_count": 3,
   "metadata": {},
   "outputs": [],
   "source": [
    "from transformers import pipeline"
   ]
  },
  {
   "cell_type": "markdown",
   "metadata": {},
   "source": [
    "We load a transformer model 'distilbert-base-uncased-finetuned-sst-2-english' that is fine-tuned for binary classification from the Hugging face repository:\n",
    "\n",
    "https://huggingface.co/models\n",
    "\n",
    "We need to load the model for the sequence classifcation and the tokenizer to convert the sentences into tokens according to the vocabulary of the model.\n",
    "\n",
    "Loading the model takes some time."
   ]
  },
  {
   "cell_type": "code",
   "execution_count": 4,
   "metadata": {},
   "outputs": [
    {
     "name": "stderr",
     "output_type": "stream",
     "text": [
      "Downloading: 100%|██████████| 629/629 [00:00<00:00, 156kB/s]\n",
      "Downloading: 100%|██████████| 255M/255M [01:32<00:00, 2.89MB/s] \n",
      "Downloading: 100%|██████████| 48.0/48.0 [00:00<00:00, 13.7kB/s]\n",
      "Downloading: 100%|██████████| 226k/226k [00:00<00:00, 474kB/s] \n"
     ]
    }
   ],
   "source": [
    "sentimentenglish = pipeline(\"sentiment-analysis\", \n",
    "                            model=\"distilbert-base-uncased-finetuned-sst-2-english\", \n",
    "                            tokenizer=\"distilbert-base-uncased-finetuned-sst-2-english\")"
   ]
  },
  {
   "cell_type": "markdown",
   "metadata": {},
   "source": [
    "We now created an instantiation of a pipeline that can tokenize any sentence, obtain a sententence embedding from the transformer language model and perform the **sentiment-analysis** task. Let's try it out on an example sentence."
   ]
  },
  {
   "cell_type": "code",
   "execution_count": 5,
   "metadata": {},
   "outputs": [],
   "source": [
    "sentence_pos_en = \"Nice hotel and the service is great\""
   ]
  },
  {
   "cell_type": "code",
   "execution_count": 6,
   "metadata": {},
   "outputs": [
    {
     "data": {
      "text/plain": "[{'label': 'POSITIVE', 'score': 0.999881386756897}]"
     },
     "execution_count": 6,
     "metadata": {},
     "output_type": "execute_result"
    }
   ],
   "source": [
    "sentimentenglish(sentence_pos_en)"
   ]
  },
  {
   "cell_type": "code",
   "execution_count": 7,
   "metadata": {},
   "outputs": [],
   "source": [
    "sentence_neg_en = \"The rooms are dirty and the wifi does not work\""
   ]
  },
  {
   "cell_type": "code",
   "execution_count": 8,
   "metadata": {},
   "outputs": [
    {
     "data": {
      "text/plain": "[{'label': 'NEGATIVE', 'score': 0.9997870326042175}]"
     },
     "execution_count": 8,
     "metadata": {},
     "output_type": "execute_result"
    }
   ],
   "source": [
    "sentimentenglish(sentence_neg_en)"
   ]
  },
  {
   "cell_type": "markdown",
   "metadata": {},
   "source": [
    "This is easy and seems to work very well. "
   ]
  },
  {
   "cell_type": "markdown",
   "metadata": {},
   "source": [
    "## Using a Dutch fine-tuned transformer model"
   ]
  },
  {
   "cell_type": "markdown",
   "metadata": {},
   "source": [
    "We can use a fine-tuned Dutch model for Dutch sentiment analysis by creating another pipeline. Again loading this model takes some time. Also note that after loading, both moodels are loaded in memory. So if you have issues loading, you may want to start over and try again just with the Dutch pipeline."
   ]
  },
  {
   "cell_type": "code",
   "execution_count": 9,
   "metadata": {},
   "outputs": [
    {
     "name": "stderr",
     "output_type": "stream",
     "text": [
      "Downloading: 100%|██████████| 1.20k/1.20k [00:00<00:00, 340kB/s]\n",
      "Downloading: 100%|██████████| 416M/416M [02:03<00:00, 3.53MB/s] \n",
      "Downloading: 100%|██████████| 40.0/40.0 [00:00<00:00, 19.7kB/s]\n",
      "Downloading: 100%|██████████| 236k/236k [00:00<00:00, 280kB/s]  \n",
      "Downloading: 100%|██████████| 112/112 [00:00<00:00, 33.2kB/s]\n"
     ]
    }
   ],
   "source": [
    "sentimentdutch = pipeline(\"sentiment-analysis\", \n",
    "                          model=\"wietsedv/bert-base-dutch-cased-finetuned-sentiment\", \n",
    "                          tokenizer=\"wietsedv/bert-base-dutch-cased-finetuned-sentiment\")"
   ]
  },
  {
   "cell_type": "markdown",
   "metadata": {},
   "source": [
    "We test it on two similar Dutch sentences:"
   ]
  },
  {
   "cell_type": "code",
   "execution_count": 10,
   "metadata": {},
   "outputs": [],
   "source": [
    "sentence_pos_nl=\"Mooi hotel en de service is geweldig\"\n",
    "sentence_neg_nl=\"De kamers zijn smerig en de wifi doet het niet\""
   ]
  },
  {
   "cell_type": "code",
   "execution_count": 11,
   "metadata": {},
   "outputs": [
    {
     "data": {
      "text/plain": "[{'label': 'pos', 'score': 0.9999955892562866}]"
     },
     "execution_count": 11,
     "metadata": {},
     "output_type": "execute_result"
    }
   ],
   "source": [
    "sentimentdutch(sentence_pos_nl)"
   ]
  },
  {
   "cell_type": "code",
   "execution_count": 12,
   "metadata": {},
   "outputs": [
    {
     "data": {
      "text/plain": "[{'label': 'neg', 'score': 0.6675182580947876}]"
     },
     "execution_count": 12,
     "metadata": {},
     "output_type": "execute_result"
    }
   ],
   "source": [
    "sentimentdutch(sentence_neg_nl)"
   ]
  },
  {
   "cell_type": "markdown",
   "metadata": {},
   "source": [
    "This seems to work fine too although the score for negative in the second example is much lower."
   ]
  },
  {
   "cell_type": "markdown",
   "metadata": {},
   "source": [
    "## Inspecting sentence representations using Simpletransformers"
   ]
  },
  {
   "cell_type": "markdown",
   "metadata": {},
   "source": [
    "The Simpletransformers package is built on top of the transformer package. It simplifies the use of transformers even more and provides excellent documentation: https://simpletransformers.ai\n",
    "\n",
    "The site explains also how you can fine-tune models yourself or even how to build models from scratch, assuming you have the computing power and the data.\n",
    "\n",
    "Here we are going to use it to inspect the sentence representations a bit more. Unfortunately, we need to load the English model again as an instantiation of a RepresentationModel. So if you have memory issues, please stop the kernel and start again from here.\n",
    "\n",
    "Loading the model may gave a lot of warnings. You can ignore these. If you do not have a graphical card (GPU) and or cuda installed to use the GPU you need to set use_cuda to False, as shown below."
   ]
  },
  {
   "cell_type": "code",
   "execution_count": 14,
   "metadata": {},
   "outputs": [
    {
     "name": "stdout",
     "output_type": "stream",
     "text": [
      "huggingface/tokenizers: The current process just got forked, after parallelism has already been used. Disabling parallelism to avoid deadlocks...\n",
      "To disable this warning, you can either:\n",
      "\t- Avoid using `tokenizers` before the fork if possible\n",
      "\t- Explicitly set the environment variable TOKENIZERS_PARALLELISM=(true | false)\n",
      "huggingface/tokenizers: The current process just got forked, after parallelism has already been used. Disabling parallelism to avoid deadlocks...\n",
      "To disable this warning, you can either:\n",
      "\t- Avoid using `tokenizers` before the fork if possible\n",
      "\t- Explicitly set the environment variable TOKENIZERS_PARALLELISM=(true | false)\n"
     ]
    },
    {
     "name": "stderr",
     "output_type": "stream",
     "text": [
      "You are using a model of type distilbert to instantiate a model of type bert. This is not supported for all configurations of models and can yield errors.\n",
      "Some weights of the model checkpoint at distilbert-base-uncased-finetuned-sst-2-english were not used when initializing BertForTextRepresentation: ['distilbert.transformer.layer.1.attention.k_lin.bias', 'classifier.weight', 'distilbert.transformer.layer.3.sa_layer_norm.bias', 'distilbert.transformer.layer.2.attention.k_lin.weight', 'distilbert.embeddings.LayerNorm.bias', 'distilbert.transformer.layer.0.attention.out_lin.weight', 'distilbert.transformer.layer.3.attention.out_lin.bias', 'distilbert.transformer.layer.0.output_layer_norm.bias', 'distilbert.transformer.layer.0.ffn.lin1.bias', 'distilbert.transformer.layer.3.output_layer_norm.bias', 'distilbert.transformer.layer.3.attention.k_lin.bias', 'distilbert.transformer.layer.1.output_layer_norm.bias', 'distilbert.transformer.layer.5.ffn.lin1.weight', 'distilbert.transformer.layer.4.output_layer_norm.weight', 'distilbert.transformer.layer.4.ffn.lin1.weight', 'distilbert.transformer.layer.5.attention.k_lin.weight', 'distilbert.transformer.layer.4.attention.k_lin.bias', 'distilbert.transformer.layer.4.attention.out_lin.bias', 'distilbert.transformer.layer.3.attention.out_lin.weight', 'distilbert.transformer.layer.4.attention.v_lin.weight', 'distilbert.transformer.layer.3.ffn.lin2.bias', 'distilbert.transformer.layer.4.ffn.lin2.weight', 'distilbert.transformer.layer.1.sa_layer_norm.weight', 'distilbert.transformer.layer.0.ffn.lin2.bias', 'distilbert.transformer.layer.1.attention.out_lin.bias', 'distilbert.transformer.layer.4.sa_layer_norm.bias', 'distilbert.transformer.layer.2.ffn.lin1.weight', 'pre_classifier.bias', 'distilbert.transformer.layer.5.attention.q_lin.bias', 'distilbert.transformer.layer.1.output_layer_norm.weight', 'distilbert.transformer.layer.4.ffn.lin1.bias', 'distilbert.transformer.layer.3.attention.k_lin.weight', 'distilbert.transformer.layer.3.attention.v_lin.weight', 'distilbert.transformer.layer.5.attention.v_lin.weight', 'distilbert.transformer.layer.1.attention.k_lin.weight', 'distilbert.transformer.layer.2.ffn.lin1.bias', 'distilbert.embeddings.word_embeddings.weight', 'distilbert.transformer.layer.0.attention.k_lin.weight', 'distilbert.transformer.layer.3.ffn.lin1.bias', 'distilbert.transformer.layer.4.attention.out_lin.weight', 'distilbert.transformer.layer.2.output_layer_norm.bias', 'distilbert.transformer.layer.1.ffn.lin1.bias', 'distilbert.transformer.layer.5.sa_layer_norm.weight', 'distilbert.transformer.layer.3.sa_layer_norm.weight', 'distilbert.transformer.layer.1.attention.out_lin.weight', 'distilbert.transformer.layer.0.attention.v_lin.bias', 'distilbert.transformer.layer.2.attention.out_lin.bias', 'distilbert.transformer.layer.0.output_layer_norm.weight', 'distilbert.transformer.layer.2.ffn.lin2.bias', 'distilbert.transformer.layer.5.ffn.lin2.weight', 'distilbert.transformer.layer.2.attention.q_lin.weight', 'distilbert.transformer.layer.5.attention.q_lin.weight', 'distilbert.transformer.layer.5.attention.out_lin.bias', 'distilbert.transformer.layer.5.ffn.lin2.bias', 'distilbert.transformer.layer.0.attention.v_lin.weight', 'distilbert.transformer.layer.3.ffn.lin2.weight', 'distilbert.transformer.layer.5.sa_layer_norm.bias', 'distilbert.transformer.layer.4.ffn.lin2.bias', 'distilbert.transformer.layer.0.attention.k_lin.bias', 'distilbert.transformer.layer.1.ffn.lin2.bias', 'distilbert.transformer.layer.4.sa_layer_norm.weight', 'distilbert.transformer.layer.5.attention.v_lin.bias', 'distilbert.transformer.layer.4.attention.k_lin.weight', 'classifier.bias', 'distilbert.transformer.layer.4.attention.q_lin.bias', 'distilbert.transformer.layer.4.output_layer_norm.bias', 'distilbert.transformer.layer.1.attention.q_lin.bias', 'distilbert.transformer.layer.2.attention.k_lin.bias', 'distilbert.transformer.layer.5.output_layer_norm.bias', 'distilbert.transformer.layer.1.attention.v_lin.weight', 'distilbert.embeddings.LayerNorm.weight', 'distilbert.embeddings.position_embeddings.weight', 'distilbert.transformer.layer.2.ffn.lin2.weight', 'distilbert.transformer.layer.4.attention.q_lin.weight', 'distilbert.transformer.layer.3.output_layer_norm.weight', 'distilbert.transformer.layer.1.attention.v_lin.bias', 'distilbert.transformer.layer.2.output_layer_norm.weight', 'distilbert.transformer.layer.4.attention.v_lin.bias', 'distilbert.transformer.layer.2.attention.out_lin.weight', 'distilbert.transformer.layer.1.attention.q_lin.weight', 'distilbert.transformer.layer.3.attention.v_lin.bias', 'distilbert.transformer.layer.2.attention.q_lin.bias', 'distilbert.transformer.layer.1.ffn.lin1.weight', 'distilbert.transformer.layer.5.output_layer_norm.weight', 'distilbert.transformer.layer.0.sa_layer_norm.weight', 'distilbert.transformer.layer.2.attention.v_lin.bias', 'distilbert.transformer.layer.0.ffn.lin2.weight', 'distilbert.transformer.layer.0.attention.out_lin.bias', 'distilbert.transformer.layer.0.sa_layer_norm.bias', 'distilbert.transformer.layer.0.ffn.lin1.weight', 'distilbert.transformer.layer.2.attention.v_lin.weight', 'distilbert.transformer.layer.0.attention.q_lin.weight', 'distilbert.transformer.layer.2.sa_layer_norm.bias', 'distilbert.transformer.layer.3.ffn.lin1.weight', 'distilbert.transformer.layer.2.sa_layer_norm.weight', 'distilbert.transformer.layer.5.ffn.lin1.bias', 'distilbert.transformer.layer.3.attention.q_lin.weight', 'distilbert.transformer.layer.5.attention.out_lin.weight', 'distilbert.transformer.layer.0.attention.q_lin.bias', 'pre_classifier.weight', 'distilbert.transformer.layer.5.attention.k_lin.bias', 'distilbert.transformer.layer.3.attention.q_lin.bias', 'distilbert.transformer.layer.1.ffn.lin2.weight', 'distilbert.transformer.layer.1.sa_layer_norm.bias']\n",
      "- This IS expected if you are initializing BertForTextRepresentation from the checkpoint of a model trained on another task or with another architecture (e.g. initializing a BertForSequenceClassification model from a BertForPreTraining model).\n",
      "- This IS NOT expected if you are initializing BertForTextRepresentation from the checkpoint of a model that you expect to be exactly identical (initializing a BertForSequenceClassification model from a BertForSequenceClassification model).\n",
      "Some weights of BertForTextRepresentation were not initialized from the model checkpoint at distilbert-base-uncased-finetuned-sst-2-english and are newly initialized: ['encoder.layer.10.attention.self.value.bias', 'encoder.layer.5.attention.output.dense.weight', 'encoder.layer.9.attention.self.key.weight', 'encoder.layer.4.attention.output.LayerNorm.bias', 'encoder.layer.8.attention.output.dense.weight', 'encoder.layer.11.intermediate.dense.weight', 'encoder.layer.7.output.dense.weight', 'encoder.layer.7.intermediate.dense.weight', 'encoder.layer.0.output.LayerNorm.weight', 'encoder.layer.6.intermediate.dense.bias', 'encoder.layer.0.attention.output.LayerNorm.weight', 'encoder.layer.4.attention.self.key.bias', 'encoder.layer.6.attention.self.query.weight', 'encoder.layer.10.attention.self.query.weight', 'encoder.layer.2.attention.self.value.bias', 'encoder.layer.5.attention.output.dense.bias', 'encoder.layer.6.attention.self.value.bias', 'encoder.layer.5.attention.self.query.bias', 'encoder.layer.10.attention.output.dense.weight', 'encoder.layer.2.attention.self.key.bias', 'encoder.layer.9.attention.output.dense.weight', 'encoder.layer.11.output.LayerNorm.weight', 'encoder.layer.5.output.dense.weight', 'encoder.layer.5.output.dense.bias', 'encoder.layer.10.attention.output.LayerNorm.weight', 'encoder.layer.7.attention.self.key.weight', 'encoder.layer.5.output.LayerNorm.bias', 'encoder.layer.0.attention.self.key.weight', 'encoder.layer.9.attention.self.value.weight', 'pooler.dense.bias', 'encoder.layer.8.intermediate.dense.weight', 'encoder.layer.7.attention.output.LayerNorm.bias', 'encoder.layer.7.output.dense.bias', 'encoder.layer.11.attention.self.key.weight', 'encoder.layer.1.intermediate.dense.weight', 'encoder.layer.4.intermediate.dense.bias', 'encoder.layer.7.attention.output.dense.bias', 'encoder.layer.10.output.dense.bias', 'encoder.layer.1.output.LayerNorm.bias', 'encoder.layer.9.attention.output.LayerNorm.bias', 'encoder.layer.6.attention.output.LayerNorm.weight', 'encoder.layer.10.attention.self.key.bias', 'encoder.layer.9.output.dense.weight', 'encoder.layer.8.intermediate.dense.bias', 'encoder.layer.4.attention.self.key.weight', 'encoder.layer.9.output.LayerNorm.weight', 'encoder.layer.5.output.LayerNorm.weight', 'encoder.layer.11.attention.self.query.bias', 'encoder.layer.11.attention.output.LayerNorm.bias', 'encoder.layer.5.attention.self.query.weight', 'encoder.layer.6.output.LayerNorm.bias', 'encoder.layer.9.attention.output.dense.bias', 'encoder.layer.7.attention.self.query.weight', 'encoder.layer.11.attention.self.key.bias', 'encoder.layer.1.attention.self.value.bias', 'encoder.layer.9.attention.self.key.bias', 'encoder.layer.5.attention.output.LayerNorm.weight', 'encoder.layer.5.attention.self.value.bias', 'encoder.layer.7.output.LayerNorm.bias', 'encoder.layer.8.attention.output.LayerNorm.weight', 'encoder.layer.8.attention.self.value.bias', 'encoder.layer.8.output.LayerNorm.weight', 'encoder.layer.5.attention.self.key.weight', 'encoder.layer.3.intermediate.dense.bias', 'encoder.layer.1.attention.self.key.weight', 'encoder.layer.3.output.LayerNorm.weight', 'encoder.layer.2.intermediate.dense.bias', 'encoder.layer.4.attention.self.value.weight', 'encoder.layer.9.output.dense.bias', 'encoder.layer.11.intermediate.dense.bias', 'encoder.layer.6.attention.self.value.weight', 'encoder.layer.1.attention.self.query.weight', 'encoder.layer.1.output.dense.weight', 'encoder.layer.3.attention.self.key.bias', 'encoder.layer.0.attention.self.value.weight', 'encoder.layer.3.attention.output.dense.bias', 'encoder.layer.3.attention.output.LayerNorm.weight', 'encoder.layer.10.output.dense.weight', 'encoder.layer.10.output.LayerNorm.weight', 'encoder.layer.11.attention.self.value.bias', 'encoder.layer.1.attention.output.dense.weight', 'encoder.layer.4.attention.self.query.bias', 'encoder.layer.5.intermediate.dense.bias', 'encoder.layer.9.intermediate.dense.weight', 'encoder.layer.6.output.dense.bias', 'encoder.layer.6.intermediate.dense.weight', 'encoder.layer.0.output.LayerNorm.bias', 'encoder.layer.11.output.dense.bias', 'embeddings.LayerNorm.weight', 'encoder.layer.1.attention.output.dense.bias', 'encoder.layer.4.attention.self.value.bias', 'encoder.layer.6.output.dense.weight', 'encoder.layer.0.attention.self.value.bias', 'encoder.layer.8.attention.self.query.weight', 'encoder.layer.4.attention.output.LayerNorm.weight', 'encoder.layer.1.attention.self.value.weight', 'encoder.layer.7.attention.self.value.bias', 'encoder.layer.3.attention.self.query.weight', 'encoder.layer.1.attention.output.LayerNorm.bias', 'encoder.layer.6.attention.self.key.bias', 'encoder.layer.0.intermediate.dense.weight', 'encoder.layer.0.attention.output.LayerNorm.bias', 'encoder.layer.0.output.dense.bias', 'encoder.layer.7.attention.self.key.bias', 'embeddings.LayerNorm.bias', 'encoder.layer.2.attention.self.query.weight', 'encoder.layer.1.output.dense.bias', 'encoder.layer.1.intermediate.dense.bias', 'encoder.layer.7.attention.self.value.weight', 'encoder.layer.0.attention.output.dense.bias', 'encoder.layer.0.attention.self.key.bias', 'encoder.layer.3.attention.output.dense.weight', 'encoder.layer.10.output.LayerNorm.bias', 'encoder.layer.11.attention.output.dense.bias', 'encoder.layer.8.output.dense.bias', 'encoder.layer.6.attention.output.dense.weight', 'encoder.layer.3.output.dense.bias', 'embeddings.word_embeddings.weight', 'encoder.layer.8.output.dense.weight', 'encoder.layer.10.attention.output.dense.bias', 'encoder.layer.6.attention.self.query.bias', 'encoder.layer.2.attention.self.value.weight', 'encoder.layer.4.attention.self.query.weight', 'embeddings.position_embeddings.weight', 'encoder.layer.3.attention.output.LayerNorm.bias', 'encoder.layer.0.intermediate.dense.bias', 'encoder.layer.11.attention.output.dense.weight', 'encoder.layer.11.output.LayerNorm.bias', 'encoder.layer.7.output.LayerNorm.weight', 'encoder.layer.0.output.dense.weight', 'encoder.layer.3.output.dense.weight', 'encoder.layer.4.output.LayerNorm.bias', 'encoder.layer.7.intermediate.dense.bias', 'encoder.layer.11.attention.output.LayerNorm.weight', 'encoder.layer.2.attention.output.dense.bias', 'encoder.layer.3.attention.self.query.bias', 'encoder.layer.9.attention.self.value.bias', 'encoder.layer.2.attention.self.query.bias', 'encoder.layer.4.intermediate.dense.weight', 'encoder.layer.11.output.dense.weight', 'encoder.layer.5.attention.output.LayerNorm.bias', 'encoder.layer.9.intermediate.dense.bias', 'encoder.layer.10.intermediate.dense.weight', 'encoder.layer.4.output.LayerNorm.weight', 'encoder.layer.3.intermediate.dense.weight', 'encoder.layer.2.output.LayerNorm.bias', 'encoder.layer.8.attention.self.key.weight', 'encoder.layer.7.attention.self.query.bias', 'encoder.layer.10.intermediate.dense.bias', 'encoder.layer.8.attention.output.LayerNorm.bias', 'encoder.layer.5.intermediate.dense.weight', 'encoder.layer.9.attention.self.query.bias', 'pooler.dense.weight', 'encoder.layer.4.output.dense.bias', 'encoder.layer.7.attention.output.LayerNorm.weight', 'encoder.layer.4.attention.output.dense.weight', 'encoder.layer.0.attention.output.dense.weight', 'encoder.layer.6.attention.output.LayerNorm.bias', 'encoder.layer.10.attention.output.LayerNorm.bias', 'encoder.layer.6.attention.output.dense.bias', 'encoder.layer.8.output.LayerNorm.bias', 'encoder.layer.7.attention.output.dense.weight', 'encoder.layer.2.intermediate.dense.weight', 'encoder.layer.0.attention.self.query.weight', 'encoder.layer.2.output.LayerNorm.weight', 'encoder.layer.11.attention.self.value.weight', 'embeddings.token_type_embeddings.weight', 'encoder.layer.2.output.dense.weight', 'encoder.layer.4.output.dense.weight', 'encoder.layer.8.attention.self.query.bias', 'encoder.layer.9.attention.output.LayerNorm.weight', 'encoder.layer.3.output.LayerNorm.bias', 'encoder.layer.10.attention.self.value.weight', 'encoder.layer.1.output.LayerNorm.weight', 'encoder.layer.1.attention.self.key.bias', 'encoder.layer.1.attention.self.query.bias', 'encoder.layer.3.attention.self.key.weight', 'encoder.layer.8.attention.output.dense.bias', 'encoder.layer.9.attention.self.query.weight', 'encoder.layer.2.attention.self.key.weight', 'encoder.layer.0.attention.self.query.bias', 'encoder.layer.2.attention.output.dense.weight', 'encoder.layer.5.attention.self.key.bias', 'encoder.layer.10.attention.self.query.bias', 'encoder.layer.4.attention.output.dense.bias', 'encoder.layer.3.attention.self.value.weight', 'encoder.layer.10.attention.self.key.weight', 'encoder.layer.8.attention.self.value.weight', 'encoder.layer.1.attention.output.LayerNorm.weight', 'encoder.layer.11.attention.self.query.weight', 'encoder.layer.2.attention.output.LayerNorm.bias', 'encoder.layer.9.output.LayerNorm.bias', 'encoder.layer.2.output.dense.bias', 'encoder.layer.6.output.LayerNorm.weight', 'encoder.layer.8.attention.self.key.bias', 'encoder.layer.3.attention.self.value.bias', 'encoder.layer.2.attention.output.LayerNorm.weight', 'encoder.layer.5.attention.self.value.weight', 'encoder.layer.6.attention.self.key.weight']\n",
      "You should probably TRAIN this model on a down-stream task to be able to use it for predictions and inference.\n",
      "The tokenizer class you load from this checkpoint is not the same type as the class this function is called from. It may result in unexpected tokenization. \n",
      "The tokenizer class you load from this checkpoint is 'DistilBertTokenizer'. \n",
      "The class this function is called from is 'BertTokenizer'.\n"
     ]
    }
   ],
   "source": [
    "from simpletransformers.language_representation import RepresentationModel\n",
    "        \n",
    "#sentences = [\"Example sentence 1\", \"Example sentence 2\"]\n",
    "model = RepresentationModel(\n",
    "        model_type=\"bert\",\n",
    "        model_name=\"distilbert-base-uncased-finetuned-sst-2-english\",\n",
    "        use_cuda=False ## If you cannot use a GPU set this to false\n",
    "    )"
   ]
  },
  {
   "cell_type": "markdown",
   "metadata": {},
   "source": [
    "The Representationmodel allows you to obtain a sentence encoding. We do that next for the positive English example which consists of 7 words:"
   ]
  },
  {
   "cell_type": "code",
   "execution_count": 15,
   "metadata": {},
   "outputs": [
    {
     "data": {
      "text/plain": "'Nice hotel and the service is great'"
     },
     "execution_count": 15,
     "metadata": {},
     "output_type": "execute_result"
    }
   ],
   "source": [
    "sentence_pos_en"
   ]
  },
  {
   "cell_type": "markdown",
   "metadata": {},
   "source": [
    "According to the simpletransformers API the input must be a list even when it is a single sentence. If you pass a string as input, it will turn it into a list of charcaters, each character as a separate sentence."
   ]
  },
  {
   "cell_type": "code",
   "execution_count": 16,
   "metadata": {},
   "outputs": [],
   "source": [
    "word_vectors = model.encode_sentences([sentence_pos_en], combine_strategy=None)"
   ]
  },
  {
   "cell_type": "markdown",
   "metadata": {},
   "source": [
    "The result is a numpy array with the shape (1, 9, 768) "
   ]
  },
  {
   "cell_type": "code",
   "execution_count": 17,
   "metadata": {},
   "outputs": [
    {
     "name": "stdout",
     "output_type": "stream",
     "text": [
      "<class 'numpy.ndarray'>\n",
      "(1, 9, 768)\n"
     ]
    }
   ],
   "source": [
    "print(type(word_vectors))\n",
    "print(word_vectors.shape)"
   ]
  },
  {
   "cell_type": "markdown",
   "metadata": {},
   "source": [
    "The first number indicates the number of sentences, which is **1** in our case. The next digit **9** indicates the number of tokens and the final digit is the number of dimension for each token according to the transformer model, which **768** in case of BERT models.\n",
    "\n",
    "We can ask for the full embedding representation for the first token:"
   ]
  },
  {
   "cell_type": "code",
   "execution_count": 18,
   "metadata": {},
   "outputs": [
    {
     "name": "stdout",
     "output_type": "stream",
     "text": [
      "Nr of dimensions for the mebdding of the first token: 768\n",
      "[ 7.67106533e-01  5.33791959e-01  2.67039895e-01 -6.76840127e-01\n",
      "  1.36183822e+00 -2.70547777e-01 -6.71268627e-02 -1.05598474e+00\n",
      " -2.85047412e-01 -7.26978540e-01  9.67526853e-01  1.11051038e-01\n",
      " -1.32694316e+00 -5.28408587e-01 -9.15984392e-01 -7.58146644e-01\n",
      " -2.61910051e-01 -1.44160375e-01 -1.39175296e+00  7.00954318e-01\n",
      "  1.08403742e+00  3.10060918e-01 -5.61872721e-01 -4.18358862e-01\n",
      " -4.46640819e-01  1.51834667e+00 -6.58160388e-01  6.48984611e-01\n",
      " -7.35697091e-01 -1.73979983e-01 -4.06234324e-01  3.64694476e-01\n",
      "  1.38108611e+00 -9.75431651e-02  1.60878146e+00 -8.11416268e-01\n",
      " -7.32650161e-01  2.78848588e-01 -3.81985813e-01  3.93769711e-01\n",
      "  9.50365543e-01  1.10369158e+00  1.60771802e-01 -1.97742209e-01\n",
      "  7.30382919e-01 -1.19919455e+00  4.79121357e-01  2.61293501e-01\n",
      " -1.16474843e+00  9.78898108e-01  3.07603097e+00  1.25448906e+00\n",
      "  1.23442978e-01  1.01036096e+00  6.45935953e-01 -7.15118110e-01\n",
      " -2.73068309e-01 -2.20954394e+00 -5.43799341e-01  1.09575105e+00\n",
      " -7.24283934e-01  1.08684969e+00 -8.21731329e-01 -1.07480597e+00\n",
      "  4.85329896e-01 -3.95968080e-01 -6.49315774e-01 -8.03790092e-02\n",
      "  2.53131747e-01  1.17077434e+00 -2.18560624e+00  2.92636961e-01\n",
      "  7.79795110e-01 -1.05356693e+00 -2.44664907e+00 -1.25926447e+00\n",
      "  8.12640250e-01  3.82796675e-01  5.84289849e-01 -5.82779884e-01\n",
      " -4.07651603e-01 -1.33612096e+00 -2.78730989e-01 -6.70970976e-01\n",
      "  1.19795179e+00 -2.42559388e-01  1.10298300e+00  7.21487343e-01\n",
      "  1.32335341e+00  6.27720058e-01 -8.52559865e-01  1.60822511e-01\n",
      "  2.63287425e+00 -1.07979499e-01 -8.59274507e-01  1.55918926e-01\n",
      " -1.53014570e-01 -7.22932279e-01  2.74902135e-01  1.05116308e+00\n",
      "  1.38763979e-01  2.05632567e+00 -2.78583348e-01 -3.02889168e-01\n",
      " -1.66761987e-02  6.47138119e-01 -8.17013919e-01  3.00028324e-01\n",
      "  7.74520993e-01  1.63891292e+00 -1.03559160e+00  1.26400590e+00\n",
      " -2.31393054e-01 -1.09311843e+00 -1.95282549e-02  5.09825885e-01\n",
      "  1.53356805e-01 -8.79471898e-01 -1.91597164e+00 -7.38284171e-01\n",
      "  1.56716931e+00 -4.93906349e-01  4.16516602e-01 -3.34085263e-02\n",
      "  1.25550553e-01 -1.82315671e+00  2.36433554e+00  8.70333731e-01\n",
      "  1.06544566e+00 -1.16440046e+00 -4.29918408e-01 -1.65465844e+00\n",
      "  1.24758041e+00 -1.18065047e+00 -6.08358383e-01  3.57653409e-01\n",
      " -1.70896637e+00  6.99012876e-01  1.92312622e+00 -8.56212676e-01\n",
      "  6.43672705e-01 -1.72730863e-01 -4.05835003e-01  1.18846651e-02\n",
      "  1.45426512e+00  4.00607824e-01  1.03368664e+00 -7.14569926e-01\n",
      "  8.03219736e-01 -1.35927594e+00 -1.09321535e+00 -5.26030779e-01\n",
      " -3.61375451e-01  2.89901197e-01  1.04456174e+00  8.67906138e-02\n",
      "  1.97747186e-01 -6.18003786e-01  5.47803760e-01  4.36982304e-01\n",
      " -4.41812158e-01 -4.37407553e-01  1.04979515e+00 -6.38943136e-01\n",
      "  1.91633546e+00  3.98857892e-01  2.04210326e-01  1.06794477e+00\n",
      " -6.77187622e-01  1.97316039e+00  1.74952543e+00  5.68652987e-01\n",
      " -6.20170116e-01  6.99676156e-01  5.14746487e-01  1.11892033e+00\n",
      "  5.87050617e-01  1.02415740e+00  1.06348681e+00  4.64100130e-02\n",
      "  5.32702625e-01  1.93439439e-01  8.44883621e-01 -4.23902750e-01\n",
      " -2.40317059e+00 -4.36112918e-02 -4.03384268e-01 -1.91474259e+00\n",
      "  3.61063927e-01 -1.13997221e+00 -1.54361439e+00 -4.77660090e-01\n",
      " -1.07359135e+00 -4.78097908e-02  1.32725656e+00  2.15582237e-01\n",
      "  2.37668228e+00  1.26914489e+00 -1.28622627e+00 -3.38291585e-01\n",
      " -2.59759784e-01  9.05928373e-01  1.85525513e+00 -1.52835679e+00\n",
      " -2.62398392e-01  8.70368123e-01 -1.60804915e+00 -1.12301767e+00\n",
      " -4.79191333e-01  8.41898084e-01 -9.74146426e-01 -9.08866286e-01\n",
      "  1.72110415e+00 -6.33505464e-01  3.95222962e-01 -1.69453311e+00\n",
      "  9.17695582e-01  2.03749999e-01 -3.85456294e-01 -1.22322607e+00\n",
      " -2.71420449e-01  4.76649165e-01  4.19771701e-01 -5.14198422e-01\n",
      " -6.39359295e-01  3.18964869e-01  1.27052736e+00 -2.34085035e+00\n",
      " -5.86048663e-02  5.47273934e-01 -1.71541929e-01 -5.61660230e-01\n",
      "  1.16596632e-01 -1.19028342e+00  1.04621685e+00 -7.73810208e-01\n",
      " -5.82082450e-01  1.64369941e-01 -7.41340220e-01  2.44521260e-01\n",
      " -7.68005371e-01  4.67687249e-01 -5.89526519e-02 -7.96187401e-01\n",
      " -1.75633383e+00  1.20773232e+00 -3.83705676e-01  1.68118834e+00\n",
      "  1.30523431e+00 -1.89163661e+00 -4.32615608e-01 -5.33555150e-01\n",
      " -3.12583208e-01 -3.37025404e-01 -7.09708929e-02 -9.83216643e-01\n",
      " -2.33177453e-01 -3.96339208e-01  1.83104265e+00 -6.44906700e-01\n",
      "  7.42320493e-02  9.13681239e-02 -1.20787036e+00 -1.44314364e-01\n",
      " -6.30698979e-01  5.09015560e-01 -6.44944727e-01 -5.44433594e-01\n",
      " -8.81004930e-01  4.10399586e-01 -1.68838620e+00 -6.90838993e-01\n",
      "  1.06163931e+00  1.12563276e+00 -3.33716005e-01  3.94786656e-01\n",
      " -4.84181076e-01  2.90662020e-01 -1.17759132e+00  4.51008081e-01\n",
      " -6.76906645e-01  1.90157092e+00  3.19970965e-01  1.39583182e+00\n",
      " -1.02811420e+00 -7.95088232e-01  3.98253500e-01 -2.98990101e-01\n",
      "  8.12695920e-02 -5.01445472e-01  1.70368648e+00 -4.35364068e-01\n",
      "  1.34218788e+00  1.61607847e-01  2.40013763e-01 -9.33290124e-01\n",
      " -4.22889650e-01 -7.84523547e-01  3.71994883e-01  2.11258948e-01\n",
      " -9.67834175e-01 -2.17148900e+00  3.07452202e-01  9.62830067e-01\n",
      " -9.55479622e-01  4.67036337e-01 -6.13342702e-01  4.56246614e-01\n",
      "  1.26508927e+00  1.33354092e+00  2.43015975e-01 -3.37487012e-01\n",
      "  8.54678512e-01 -5.10293245e-01  8.50327611e-01  9.24917385e-02\n",
      " -1.88867044e+00  1.15013206e+00 -7.12179542e-01  3.03842634e-01\n",
      "  5.46419859e-01  1.72344446e+00 -1.25532949e+00  2.52041906e-01\n",
      " -8.68124738e-02  1.25904366e-01  7.37456232e-03 -5.65497875e-01\n",
      "  9.83330667e-01 -4.13924724e-01 -6.45631433e-01 -1.59532154e+00\n",
      " -1.03777505e-01 -9.96957004e-01 -2.84502000e-01 -8.63732517e-01\n",
      " -6.60723746e-01  9.39037681e-01  2.19803643e+00  1.09009981e+00\n",
      "  1.60587049e+00 -1.99208230e-01 -1.61560881e+00  3.54324907e-01\n",
      " -9.04601395e-01 -5.47186017e-01  5.22144735e-01  1.01308906e+00\n",
      "  6.12168372e-01 -6.99993432e-01  1.37919754e-01  1.86601675e+00\n",
      " -1.09683359e+00 -9.25519094e-02 -1.45321178e+00 -5.16960084e-01\n",
      "  3.43302101e-01 -1.47679698e+00  8.78324747e-01 -1.31422806e+00\n",
      "  4.04591531e-01 -1.59156120e+00 -7.14245021e-01  1.77967623e-02\n",
      " -1.83770835e+00 -5.03366888e-01 -9.59920466e-01  1.60409719e-01\n",
      "  1.63879788e+00  8.40299368e-01 -1.18369341e+00 -1.64677739e+00\n",
      " -4.09532428e-01 -1.05718541e+00  4.85389531e-01  6.47281110e-01\n",
      " -4.42765921e-01 -1.10870093e-01  6.58496439e-01 -1.45257306e+00\n",
      "  5.81321418e-01  5.72741568e-01 -1.55229366e+00 -8.52402687e-01\n",
      " -1.38764155e+00 -6.64077640e-01  1.12030232e+00  2.95206130e-01\n",
      " -3.69082659e-01  1.05791593e+00  7.14864612e-01 -2.02722162e-01\n",
      " -1.30271637e+00  2.15461180e-01 -9.67393279e-01  4.66361016e-01\n",
      " -1.20814323e+00 -4.88385558e-01 -1.54373869e-01 -3.31617653e-01\n",
      "  9.80835676e-01  3.58189911e-01 -5.60491562e-01  4.11240965e-01\n",
      "  1.37030232e+00  1.20858347e+00 -1.20232737e+00 -4.15691026e-02\n",
      "  1.06230068e+00 -1.22522987e-01  7.13628829e-01 -1.13427125e-01\n",
      "  4.39098746e-01 -8.74124706e-01  1.12224281e+00 -2.12294221e+00\n",
      "  1.31180331e-01  1.17556894e+00  5.41177154e-01  2.22438002e+00\n",
      " -1.69159174e+00 -1.11085129e+00  7.84938455e-01 -1.39287579e+00\n",
      " -1.03068680e-01  1.05748057e+00  3.30599010e-01  1.14543498e-01\n",
      "  2.25763512e+00 -1.43041837e+00  5.04001319e-01 -6.32627070e-01\n",
      "  2.40719661e-01  1.94920599e-02  1.81555355e+00 -1.18176377e+00\n",
      "  8.44401181e-01 -1.89428377e+00 -1.29539073e+00  1.73432088e+00\n",
      " -1.53090608e+00  1.77024674e+00 -1.25393045e+00 -4.81977016e-01\n",
      " -4.91650283e-01 -3.49710286e-01 -4.58748758e-01 -2.25731745e-01\n",
      " -4.37305689e-01  1.43971443e+00  2.79860139e-01  6.97980464e-01\n",
      "  5.92417158e-02  1.17204869e+00 -1.89610231e+00  1.16755772e+00\n",
      " -5.54968417e-01  3.47613126e-01  2.03293991e+00  6.50521874e-01\n",
      "  5.11849642e-01  1.34455347e+00 -1.33338356e+00 -9.61697221e-01\n",
      "  9.79216993e-01  1.50727248e+00  1.56365871e+00  2.37603813e-01\n",
      "  7.50787675e-01 -4.16232407e-01  3.79969418e-01  1.32896829e+00\n",
      "  1.65771651e+00  9.45302308e-01  6.12037659e-01  9.26942408e-01\n",
      " -1.03794181e+00 -6.61546528e-01  2.89226323e-01 -3.57749492e-01\n",
      "  3.28011602e-01 -1.23395777e+00 -8.54632482e-02 -9.13879335e-01\n",
      " -2.56406277e-01 -7.77021110e-01  7.54202083e-02 -8.98193270e-02\n",
      "  1.22311509e+00  1.99941289e+00  9.72748160e-01  4.07346100e-01\n",
      " -1.18454969e+00  1.30556986e-01 -9.39390540e-01 -7.93023467e-01\n",
      " -9.62563276e-01 -9.89726558e-02  1.38146579e+00  1.36733830e+00\n",
      "  5.64605780e-02  3.69144278e-03  5.84325850e-01  1.70130551e+00\n",
      "  1.51262009e+00 -8.20512250e-02 -4.62943584e-01 -6.36694312e-01\n",
      "  6.02144539e-01 -6.96503699e-01  3.72832865e-01  5.34014106e-01\n",
      " -2.79485494e-01 -2.35205352e-01 -4.28139210e-01 -5.53707838e-01\n",
      " -6.85303271e-01  6.64612353e-02  1.06582604e-01  5.60056627e-01\n",
      " -7.65713274e-01 -7.21701384e-01 -1.27893782e+00 -1.52125573e+00\n",
      "  3.76089334e-01  1.28952467e+00  2.65547901e-01  1.39336139e-02\n",
      "  2.09584147e-01 -6.38835728e-02 -2.77420014e-01  7.69832313e-01\n",
      "  6.50365055e-01  3.01446706e-01 -3.05236131e-01  1.68203020e+00\n",
      "  1.58851326e+00 -1.77512586e-01  2.66770631e-01 -8.71664956e-02\n",
      " -1.21498799e+00  1.28330445e+00  4.79501396e-01  1.00490856e+00\n",
      "  1.52217281e+00 -6.56951666e-01  2.27518392e+00  3.68193328e-01\n",
      "  1.61995447e+00 -3.79028991e-02  1.44496009e-01  1.40949798e+00\n",
      "  1.32818055e+00  5.75573504e-01  4.73006785e-01  4.19866890e-01\n",
      "  6.29295230e-01 -8.44819188e-01 -5.76163769e-01  1.58826399e+00\n",
      " -4.95351583e-01  1.23058760e+00 -5.88031001e-02 -3.10904831e-01\n",
      " -3.91858637e-01 -3.50590050e-01  7.19688684e-02  1.34877300e+00\n",
      "  2.23410204e-01  4.10454512e-01  1.82576656e+00  7.80771494e-01\n",
      " -1.25472867e+00  2.31466323e-01 -6.59423172e-01  1.34716213e+00\n",
      "  1.35840094e+00 -9.77482259e-01  3.56307507e-01  4.83495086e-01\n",
      " -1.41188657e+00  1.22787428e+00 -1.12066650e+00  5.16700029e-01\n",
      " -2.16619420e+00  4.12642621e-02 -9.17388678e-01  4.29379076e-01\n",
      "  1.90000683e-01 -4.03603017e-01 -1.51801026e+00 -3.30982298e-01\n",
      "  1.12517381e+00 -3.23332101e-01 -2.16176629e-01 -8.14488769e-01\n",
      " -8.19055974e-01  2.08484721e+00  8.97416949e-01  8.93281400e-01\n",
      "  4.18752640e-01 -4.66412365e-01 -1.79942355e-01 -1.11041808e+00\n",
      "  2.99260706e-01 -6.18720055e-01  7.46875525e-01  6.29869342e-01\n",
      " -6.16865993e-01  1.52653992e+00  1.53076613e+00 -1.94875228e+00\n",
      " -8.19100857e-01 -7.16704667e-01  1.68660328e-01  5.76451659e-01\n",
      "  1.33717167e+00 -2.71555853e+00 -3.33440632e-01  5.77742457e-01\n",
      "  9.71542820e-02  5.02798736e-01 -3.58508259e-01 -3.53967259e-03\n",
      " -4.18052673e-01  1.06855035e+00  1.26581430e+00 -5.73276043e-01\n",
      " -3.88218403e-01  6.71292782e-01 -5.42031705e-01 -5.33420265e-01\n",
      " -4.77908015e-01 -1.63996518e+00 -5.23232758e-01 -8.10629904e-01\n",
      " -2.32289743e+00  3.61611456e-01  1.18108439e+00 -1.92447126e-01\n",
      " -1.56277943e+00  5.33183396e-01  7.99501061e-01  1.62217224e+00\n",
      "  1.23358798e+00 -1.71908879e+00 -1.70114085e-01  2.53042173e+00\n",
      " -3.24970394e-01 -1.76754928e+00 -8.23212087e-01 -6.32086456e-01\n",
      " -1.11460173e+00 -4.51910108e-01  1.20922828e+00  1.88518569e-01\n",
      " -1.05071402e+00  3.19924533e-01 -1.67808235e+00  2.89311469e-01\n",
      " -2.87255138e-01 -1.47797751e+00 -1.36264968e+00  3.20841312e-01\n",
      " -3.25897622e+00  5.81459939e-01 -4.43820328e-01  4.98373151e-01\n",
      " -6.61421716e-01 -4.47918981e-01 -5.83079197e-02  1.30530250e+00\n",
      " -6.39281511e-01 -1.55317053e-01  1.44981057e-03 -9.89503741e-01\n",
      " -1.13318384e+00 -1.03179646e+00  2.20612502e+00 -7.32834160e-01\n",
      "  4.73589927e-01  1.37864590e+00  2.12051734e-01 -8.25163186e-01\n",
      "  1.21426694e-02 -5.86022258e-01  8.97539183e-02 -1.64613068e-01\n",
      "  1.62731898e+00 -3.11963022e-01 -1.53331995e+00 -2.55423605e-01\n",
      "  5.47297835e-01  1.09293616e+00 -1.75851095e+00  1.13933063e+00\n",
      " -1.28969502e+00  8.68519783e-01  8.58663440e-01 -1.95209277e+00\n",
      "  2.95777678e-01  7.79895261e-02 -6.29159153e-01  2.35189056e+00\n",
      " -4.90021765e-01 -1.62442338e+00  2.71927983e-01  1.93602014e+00\n",
      " -3.04948062e-01  5.66051364e-01  2.08766127e+00 -1.50688207e+00\n",
      " -5.89895189e-01 -2.22662330e+00  1.57472372e+00 -1.16064465e+00\n",
      "  8.17255318e-01  8.60631347e-01  8.60632300e-01 -1.23863125e+00\n",
      "  6.76416934e-01 -2.44907784e+00 -9.72873211e-01  2.18776703e+00\n",
      "  1.51055560e-01 -1.02971807e-01 -3.51327747e-01 -1.27355242e+00\n",
      " -1.53565776e+00  1.57965851e+00  9.75454867e-01  6.71023369e-01\n",
      "  9.12453607e-02  5.73024333e-01 -1.03132218e-01  3.25544953e-01\n",
      " -1.05727267e+00 -1.33067846e+00 -5.84679902e-01  8.86950910e-01\n",
      "  7.97014475e-01  1.15522218e+00 -1.11843371e+00  1.12916946e+00\n",
      "  5.98323047e-01 -1.69318080e+00 -2.51503676e-01  3.28576833e-01\n",
      " -2.91737866e+00  1.24147642e+00 -6.04757369e-01  1.03435469e+00\n",
      "  5.83325326e-02  1.14559352e+00 -1.66300321e+00  3.79392684e-01\n",
      " -2.03670597e+00 -9.03261602e-01 -1.03706801e+00  1.15517434e-02\n",
      "  4.46331233e-01 -1.99413057e-02 -1.58247280e+00 -5.33522010e-01\n",
      "  1.14474885e-01 -1.67471051e-01  2.69321680e-01 -3.03064167e-01]\n"
     ]
    }
   ],
   "source": [
    "print('Nr of dimensions for the mebdding of the first token:', len(word_vectors[0][0]))\n",
    "print(word_vectors[0][0])"
   ]
  },
  {
   "cell_type": "markdown",
   "metadata": {},
   "source": [
    "**WAIT** Our sentence has 7 words so why do we get 9 tokens here?"
   ]
  },
  {
   "cell_type": "markdown",
   "metadata": {},
   "source": [
    "We can  use the tokenizer of the model to get the token representation of the transformer and check it out."
   ]
  },
  {
   "cell_type": "code",
   "execution_count": 19,
   "metadata": {},
   "outputs": [
    {
     "data": {
      "text/plain": "{'input_ids': [101, 100, 3309, 1998, 1996, 2326, 2003, 2307, 102], 'token_type_ids': [0, 0, 0, 0, 0, 0, 0, 0, 0], 'attention_mask': [1, 1, 1, 1, 1, 1, 1, 1, 1]}"
     },
     "execution_count": 19,
     "metadata": {},
     "output_type": "execute_result"
    }
   ],
   "source": [
    "tokenized_sentence = model.tokenizer(sentence_pos_en)\n",
    "tokenized_sentence"
   ]
  },
  {
   "cell_type": "markdown",
   "metadata": {},
   "source": [
    "Although our sentence has 7 words, we get 9 identifiers. We can use the **decode** function to convert them back to words:"
   ]
  },
  {
   "cell_type": "code",
   "execution_count": 20,
   "metadata": {},
   "outputs": [
    {
     "data": {
      "text/plain": "'[ C L S ]'"
     },
     "execution_count": 20,
     "metadata": {},
     "output_type": "execute_result"
    }
   ],
   "source": [
    "model.tokenizer.decode(101)"
   ]
  },
  {
   "cell_type": "markdown",
   "metadata": {},
   "source": [
    "The first token is the special token **CLS** which is an abstract sentence representation. Let's check another one:"
   ]
  },
  {
   "cell_type": "code",
   "execution_count": 21,
   "metadata": {},
   "outputs": [
    {
     "data": {
      "text/plain": "'h o t e l'"
     },
     "execution_count": 21,
     "metadata": {},
     "output_type": "execute_result"
    }
   ],
   "source": [
    "model.tokenizer.decode(3309)"
   ]
  },
  {
   "cell_type": "markdown",
   "metadata": {},
   "source": [
    "Allright, this a word from our sentence. Let's decode them all:"
   ]
  },
  {
   "cell_type": "code",
   "execution_count": 22,
   "metadata": {},
   "outputs": [
    {
     "name": "stdout",
     "output_type": "stream",
     "text": [
      "101 [ C L S ]\n",
      "100 [ U N K ]\n",
      "3309 h o t e l\n",
      "1998 a n d\n",
      "1996 t h e\n",
      "2326 s e r v i c e\n",
      "2003 i s\n",
      "2307 g r e a t\n",
      "102 [ S E P ]\n"
     ]
    }
   ],
   "source": [
    "tokenid_list = tokenized_sentence['input_ids']\n",
    "for token_id in tokenid_list:\n",
    "    print(token_id, model.tokenizer.decode(token_id))"
   ]
  },
  {
   "cell_type": "markdown",
   "metadata": {},
   "source": [
    "The transformer model added the special tokens **CLS** and **SEP** but also represented our \"Nice\" with the **UNK** token. Any idea why? Check the name of the model we used....."
   ]
  },
  {
   "cell_type": "markdown",
   "metadata": {},
   "source": [
    "We used the uncased model, which means that for training all inoput was downcased."
   ]
  },
  {
   "cell_type": "markdown",
   "metadata": {},
   "source": [
    "# End of this notebook"
   ]
  },
  {
   "cell_type": "code",
   "execution_count": null,
   "metadata": {},
   "outputs": [],
   "source": []
  }
 ],
 "metadata": {
  "kernelspec": {
   "name": "text-mining",
   "language": "python",
   "display_name": "Text-Mining"
  },
  "language_info": {
   "codemirror_mode": {
    "name": "ipython",
    "version": 3
   },
   "file_extension": ".py",
   "mimetype": "text/x-python",
   "name": "python",
   "nbconvert_exporter": "python",
   "pygments_lexer": "ipython3",
   "version": "3.7.4"
  }
 },
 "nbformat": 4,
 "nbformat_minor": 4
}