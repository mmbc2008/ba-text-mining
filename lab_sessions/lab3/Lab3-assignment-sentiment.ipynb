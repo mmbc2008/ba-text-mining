{
 "cells": [
  {
   "cell_type": "markdown",
   "metadata": {},
   "source": [
    "# Lab3 - Assignment Sentiment"
   ]
  },
  {
   "cell_type": "markdown",
   "metadata": {},
   "source": [
    "Copyright: Vrije Universiteit Amsterdam, Faculty of Humanities, CLTL"
   ]
  },
  {
   "cell_type": "markdown",
   "metadata": {},
   "source": [
    "This notebook describes the LAB-2 assignment of the Text Mining course. It is about sentiment analysis.\n",
    "\n",
    "The aims of the assignment are:\n",
    "* Learn how to run a rule-based sentiment analysis module (VADER)\n",
    "* Learn how to run a machine learning sentiment analysis module (Scikit-Learn/ Naive Bayes)\n",
    "* Learn how to run scikit-learn metrics for the quantitative evaluation\n",
    "* Learn how to perform and interpret a quantitative evaluation of the outcomes of the tools (in terms of Precision, Recall, and F<sub>1</sub>)\n",
    "* Learn how to evaluate the results qualitatively (by examining the data) \n",
    "* Get insight into differences between the two applied methods\n",
    "* Get insight into the effects of using linguistic preprocessing\n",
    "* Be able to describe differences between the two methods in terms of their results\n",
    "* Get insight into issues when applying these methods across different  domains\n",
    "\n",
    "In this assignment, you are going to create your own gold standard set from 50 tweets. You will the VADER and scikit-learn classifiers to these tweets and evaluate the results by using evaluation metrics and inspecting the data.\n",
    "\n",
    "We recommend you go through the notebooks in the following order:\n",
    "* **Read the assignment (see below)**\n",
    "* **Lab3.2-Sentiment-analysis-with-VADER.ipynb**\n",
    "* **Lab3.3-Sentiment-analysis.with-scikit-learn.ipynb**\n",
    "* **Answer the questions of the assignment (see below) using the provided notebooks and submit**\n",
    "\n",
    "In this assignment you are asked to perform both quantitative evaluations and error analyses:\n",
    "* a quantitative evaluation concerns the scores (Precision, Recall, and F<sub>1</sub>) provided by scikit's classification_report. It includes the scores per category, as well as micro and macro averages. Discuss whether the scores are balanced or not between the different categories (positive, negative, neutral) and between precision and recall. Discuss the shortcomings (if any) of the classifier based on these scores\n",
    "* an error analysis regarding the misclassifications of the classifier. It involves going through the texts and trying to understand what has gone wrong. It servers to get insight in what could be done to improve the performance of the classifier. Do you observe patterns in misclassifications?  Discuss why these errors are made and propose ways to solve them."
   ]
  },
  {
   "cell_type": "markdown",
   "metadata": {},
   "source": [
    "## Credits\n",
    "The notebooks in this block have been originally created by [Marten Postma](https://martenpostma.github.io) and [Isa Maks](https://research.vu.nl/en/persons/e-maks). Adaptations were made by [Filip Ilievski](http://ilievski.nl)."
   ]
  },
  {
   "cell_type": "markdown",
   "metadata": {},
   "source": [
    "## Part I: VADER assignments\n",
    "\n",
    "\n",
    "### Preparation (nothing to submit):\n",
    "To be able to answer the VADER questions you need to know how the tool works. \n",
    "* Read more about the VADER tool in [this blog](http://t-redactyl.io/blog/2017/04/using-vader-to-handle-sentiment-analysis-with-social-media-text.html).  \n",
    "* VADER provides 4 scores (positive, negative, neutral, compound). Be sure to understand what they mean and how they are calculated.\n",
    "* VADER uses rules to handle linguistic phenomena such as negation and intensification. Be sure to understand which rules are used, how they work, and why they are important.\n",
    "* VADER makes use of a sentiment lexicon. Have a look at the lexicon. Be sure to understand which information can be found there (lemma?, wordform?, part-of-speech?, polarity value?, word meaning?) What do all scores mean? https://github.com/cjhutto/vaderSentiment/blob/master/vaderSentiment/vader_lexicon.txt) \n",
    "\n",
    "\n",
    "### [3.5 points] Question1:\n",
    "\n",
    "Regard the following sentences and their output as given by VADER. Regard sentences 1 to 7, and explain the outcome **for each sentence**. Take into account both the rules applied by VADER and the lexicon that is used. You will find that some of the results are reasonable, but others are not. Explain what is going wrong or not when correct and incorrect results are produced. \n",
    "\n",
    "```\n",
    "INPUT SENTENCE 1 I love apples\n",
    "VADER OUTPUT {'neg': 0.0, 'neu': 0.192, 'pos': 0.808, 'compound': 0.6369}\n",
    "\n",
    "INPUT SENTENCE 2 I don't love apples\n",
    "VADER OUTPUT {'neg': 0.627, 'neu': 0.373, 'pos': 0.0, 'compound': -0.5216}\n",
    "\n",
    "INPUT SENTENCE 3 I love apples :-)\n",
    "VADER OUTPUT {'neg': 0.0, 'neu': 0.133, 'pos': 0.867, 'compound': 0.7579}\n",
    "\n",
    "INPUT SENTENCE 4 These houses are ruins\n",
    "VADER OUTPUT {'neg': 0.492, 'neu': 0.508, 'pos': 0.0, 'compound': -0.4404}\n",
    "\n",
    "INPUT SENTENCE 5 These houses are certainly not considered ruins\n",
    "VADER OUTPUT {'neg': 0.0, 'neu': 0.51, 'pos': 0.49, 'compound': 0.5867}\n",
    "\n",
    "INPUT SENTENCE 6 He lies in the chair in the garden\n",
    "VADER OUTPUT {'neg': 0.286, 'neu': 0.714, 'pos': 0.0, 'compound': -0.4215}\n",
    "\n",
    "INPUT SENTENCE 7 This house is like any house\n",
    "VADER OUTPUT {'neg': 0.0, 'neu': 0.667, 'pos': 0.333, 'compound': 0.3612}\n",
    "```"
   ]
  },
  {
   "cell_type": "markdown",
   "metadata": {},
   "source": [
    "### [Points: 2.5] Exercise 2: Collecting 50 tweets for evaluation\n",
    "Collect 50 tweets. Try to find tweets that are interesting for sentiment analysis, e.g., very positive, neutral, and negative tweets. These could be your own tweets (typed in) or collected from the Twitter stream.\n",
    "\n",
    "We will store the tweets in the file **my_tweets.json** (use a text editor to edit).\n",
    "For each tweet, you should insert:\n",
    "* sentiment analysis label: negative | neutral | positive (this you determine yourself, this is not done by a computer)\n",
    "* the text of the tweet\n",
    "* the Tweet-URL\n",
    "\n",
    "from:\n",
    "```\n",
    "    \"1\": {\n",
    "        \"sentiment_label\": \"\",\n",
    "        \"text_of_tweet\": \"\",\n",
    "        \"tweet_url\": \"\",\n",
    "```\n",
    "to:\n",
    "```\n",
    "\"1\": {\n",
    "        \"sentiment_label\": \"positive\",\n",
    "        \"text_of_tweet\": \"All across America people chose to get involved, get engaged and stand up. Each of us can make a difference, and all of us ought to try. So go keep changing the world in 2018.\",\n",
    "        \"tweet_url\" : \"https://twitter.com/BarackObama/status/946775615893655552\",\n",
    "    },\n",
    "```"
   ]
  },
  {
   "cell_type": "markdown",
   "metadata": {},
   "source": [
    "You can load your tweets with human annotation in the following way."
   ]
  },
  {
   "cell_type": "code",
   "execution_count": 4,
   "metadata": {},
   "outputs": [],
   "source": [
    "import json"
   ]
  },
  {
   "cell_type": "code",
   "execution_count": 5,
   "metadata": {},
   "outputs": [],
   "source": [
    "my_tweets = json.load(open('my_tweets.json'))"
   ]
  },
  {
   "cell_type": "code",
   "execution_count": 6,
   "metadata": {},
   "outputs": [
    {
     "name": "stdout",
     "output_type": "stream",
     "text": [
      "1 {'sentiment_label': 'positive', 'text_of_tweet': '“cHiNa cAn’T iNnOvAtE.” 💥Analysis by ASPI* shows that China leads the USA in whopping 37 out of 44 critical scientific areas such as AI, quantum computing, biotech, and advanced materials.<br><br>*funded by U.S. military industrial complex, so no pro-China bias <a href=\"https://t.co/CgNUmGA0iE\"> pic.twitter.com/CgNUmGA0iE', 'tweet_url': 'https://twitter.com/Kanthan2030/status/1631622840989675520?ref_src=twsrc%5Etfw'}\n",
      "2 {'sentiment_label': 'negative', 'text_of_tweet': 'AMERICAN WAR MACHINE NOW FOCUSED ON CHINA<br> <a href=\"https://t.co/5zUMGxoXNQ\">pic.twitter.com/5zUMGxoXNQ</a></p>&mdash; The_Real_Fly (@The_Real_Fly)', 'tweet_url': 'https://twitter.com/The_Real_Fly/status/1631542150675529729?ref_src=twsrc%5Etfw'}\n",
      "3 {'sentiment_label': 'negative', 'text_of_tweet': 'China appears to be requiring foreign law professors to submit their syllabuses to ensure they are following a doctrine pushed by President Xi Jinping <a href=\"https://t.co/SuSWhELiCx\">https://t.co/SuSWhELiCx</a></p>&mdash; Bloomberg (@business)', 'tweet_url': 'https://twitter.com/business/status/1631576391954169857?ref_src=twsrc%5Etfw'}\n",
      "4 {'sentiment_label': 'negative', 'text_of_tweet': 'The United States has added two subsidiaries of Chinese genetics company BGI to a trade blacklist over allegations it conducted genetic analysis and surveillance activities for Beijing, which Washington says was used to repress ethnic minorities in China <a href=\"https://t.co/siXR57whNs\">https://t.co/siXR57whNs</a></p>&mdash; CNN (@CNN)', 'tweet_url': 'https://twitter.com/CNN/status/1631622994924544001?ref_src=twsrc%5Etfw'}\n",
      "5 {'sentiment_label': 'positive', 'text_of_tweet': 'China has a prevalent weapon magazine culture which I can’t find in America. There are about 2 dozens of highly professional monthlies published and penned by the MIC itself covering every branch of the armed forces. You can buy these magazines at every street corner across the <a href=\"https://t.co/YVNteeP3Iq\">pic.twitter.com/YVNteeP3Iq</a></p>&mdash; Governor General (@manchuxi)', 'tweet_url': 'https://twitter.com/manchuxi/status/1631534583475830788?ref_src=twsrc%5Etfw'}\n",
      "6 {'sentiment_label': 'negative', 'text_of_tweet': 'China is building six times more new coal plants than the rest of the world combined, new research shows <a href=\"https://t.co/zd7akk1eqV\">https://t.co/zd7akk1eqV</a></p>&mdash; ABC News (@abcnews)', 'tweet_url': 'https://twitter.com/abcnews/status/1631450164375478272?ref_src=twsrc%5Etfw'}\n",
      "7 {'sentiment_label': 'negative', 'text_of_tweet': 'China\\'\\'s turn towards fascism is accelerating <a href=\"https://t.co/Bpoey4WnAz\">pic.twitter.com/Bpoey4WnAz</a></p>&mdash; Chinese History Expert (@chineseciv)', 'tweet_url': 'https://twitter.com/chineseciv/status/1631515516207788033?ref_src=twsrc%5Etfw'}\n",
      "8 {'sentiment_label': 'positive', 'text_of_tweet': 'China has a &quot;stunning lead&quot; in 37 out of 44 critical and emerging technologies as Western democracies lose a global competition for research output, a security think tank said on Thursday after tracking defense, space, energy and biotechnology. <a href=\"https://t.co/icY1FHvVGK\">https://t.co/icY1FHvVGK</a></p>&mdash; NEWSMAX (@NEWSMAX)', 'tweet_url': 'https://twitter.com/NEWSMAX/status/1631523549122007040?ref_src=twsrc%5Etfw'}\n",
      "9 {'sentiment_label': 'negative', 'text_of_tweet': \"I'm just wondering if there is any person in Taiwan who thinks that the Biden neocons are pumping billions of dollars of weapons onto their Island and antagonizing China to make them safer?</p>&mdash; Garland Nixon (@GarlandNixon)\", 'tweet_url': 'https://twitter.com/GarlandNixon/status/1631451970752978947?ref_src=twsrc%5Etfw'}\n",
      "10 {'sentiment_label': 'negative', 'text_of_tweet': 'In response to US actions, China will take retaliatory measures to protect Chinese corporations — Ministry of Commerce of the People&#39;s Republic of China</p>&mdash; AZ 🛰🌏🌍🌎 (@AZgeopolitics)', 'tweet_url': 'https://twitter.com/AZgeopolitics/status/1631653133104345088?ref_src=twsrc%5Etfw'}\n",
      "11 {'sentiment_label': 'negative', 'text_of_tweet': 'Today is March 3, 2023 and Joe Biden is still an illegitimate President and is owned by China!</p>&mdash; PISSED OFF PATRIOT HOFFY 🖕 (@PATRIOTGHOFFY)', 'tweet_url': 'https://twitter.com/PATRIOTGHOFFY/status/1631645105684635648?ref_src=twsrc%5Etfw'}\n",
      "12 {'sentiment_label': 'negative', 'text_of_tweet': 'Let me ask you, how long would a China Police Station last in the US, Great Britain, Australia, Japan France, New Zealand. And you know if there was a threat of election interference this would be investigated even before the public demand them to do so. 🤔🇨🇳 is so inbedded', 'tweet_url': 'https://t.co/Lfxx4UD0wg'}\n",
      "13 {'sentiment_label': 'negative', 'text_of_tweet': 'Wicked cleverness: China wages border aggression against India and then repeatedly advises India to not let the border situation come in the way of bilateral cooperation. China&#39;s latest statement says India should put the border issue in &quot;the proper place in bilateral relations.”</p>&mdash; Brahma Chellaney (@Chellaney)', 'tweet_url': 'https://twitter.com/Chellaney/status/1631610600781647872?ref_src=twsrc%5Etfw'}\n",
      "14 {'sentiment_label': 'negative', 'text_of_tweet': \"It's fascinating that our gov&#39;t suddenly admits all the facts about COVID&#39;s origin, now that China has decided to side with Russia.</p>&mdash; Shukri Abdirahman (@ShuForCongress)\", 'tweet_url': 'https://twitter.com/ShuForCongress/status/1631653770147889153?ref_src=twsrc%5Etfw'}\n",
      "15 {'sentiment_label': 'negative', 'text_of_tweet': 'The public is inching closer and closer to the harsh reality.<br>Russia and China’s displeasure with US biological activity in Ukraine, is because of Covid. <br>Western Criminals created SARS-CoV-2, which killed millions of people, and now the Eastern world is angry.</p>&mdash; D-Bark (@DBark46107258)', 'tweet_url': 'https://twitter.com/DBark46107258/status/1631650236279173120?ref_src=twsrc%5Etfw'}\n",
      "16 {'sentiment_label': 'negative', 'text_of_tweet': 'Folks, China got what they wanted from Harper. That 31-year trade deal. And they got to execute Canadians.<br><br>Trudeau is less biddable.<br><br>China wants the CPC back in office, so they&#39;ve set this up. <br><br>That&#39;s what&#39;s going on here, IMO.<a href=\"https://twitter.com/hashtag/cdnpoli?src=hash&amp;ref_src=twsrc%5Etfw\">#cdnpoli</a></p>&mdash; Timothy Anderson 💉💉💉💉💉🎶 (@AndersonBooz)', 'tweet_url': 'https://twitter.com/AndersonBooz/status/1631545345556779009?ref_src=twsrc%5Etfw'}\n",
      "17 {'sentiment_label': 'negative', 'text_of_tweet': 'Blinken’ trip to Uzbekistan has only one purpose… to sow the seeds of regime change that would allow the U.S. Empire to take control of the country in a few years time and turn it into a dagger on the side of China &amp; Russia.</p>&mdash; 倪明达 (Ni Mingda) (@NiMingda_GG)', 'tweet_url': 'https://twitter.com/NiMingda_GG/status/1631642321933484034?ref_src=twsrc%5Etfw'}\n",
      "18 {'sentiment_label': 'negative', 'text_of_tweet': 'There is ten times more evidence of Biden-China collusion than there ever was of Trump-Russia collusion.<br><br>The Hunter Biden laptop is a smoking gun.<br><br>When have the lamestream media brought this up? Where&#39;s the campaign surveillance? When&#39;s a Special Counsel going to investigate?</p>&mdash; Kyle Becker (@kylenabecker)', 'tweet_url': 'https://twitter.com/kylenabecker/status/1631654725367021569?ref_src=twsrc%5Etfw'}\n",
      "19 {'sentiment_label': 'negative', 'text_of_tweet': '🇨🇳🇺🇸: The heat is turning up <br><br>&quot;We strongly oppose the sale of arms to Chinese Taiwan...<br>We demand that the US cease arms sales to Taiwan and cease military ties with the island.&quot; <br>The People&#39;s Liberation Army of China is always ready to strike back...&quot;<br>-spokesman Tan Kefei<br>--&gt;👇</p>&mdash; David Roth-Lindberg (@RothLindberg)', 'tweet_url': 'https://twitter.com/RothLindberg/status/1631635667154337794?ref_src=twsrc%5Etfw'}\n",
      "20 {'sentiment_label': 'negative', 'text_of_tweet': 'A report from the Australian Institute for Strategic Policy Research warns that China is achieving a significant advantage over the US and the West in the vast majority of critical and advanced technologies.<br><br>According to the report, China leads in 37 out of 44 technologies… <a href=\"https://t.co/namahAiBT2\">https://t.co/namahAiBT2</a></p>&mdash; GraphicW (@GraphicW5)', 'tweet_url': 'https://twitter.com/GraphicW5/status/1631634185742868480?ref_src=twsrc%5Etfw'}\n",
      "21 {'sentiment_label': 'negative', 'text_of_tweet': 'Americans falsely assume that a war with China will be fought in China.<br><br>.</p>&mdash; david kersten (@davidkersten)', 'tweet_url': 'https://twitter.com/davidkersten/status/1631469854308827137?ref_src=twsrc%5Etfw'}\n",
      "22 {'sentiment_label': 'neutral', 'text_of_tweet': 'The boundary issue should be put in the proper place in bilateral relations, Qin said, adding that the situation on the borders should be brought under normalized management as soon as possible: China statement on EAM-China FM meet</p>&mdash; Sidhant Sibal (@sidhant)', 'tweet_url': 'https://twitter.com/sidhant/status/1631601051064467457?ref_src=twsrc%5Etfw'}\n",
      "23 {'sentiment_label': 'negative', 'text_of_tweet': '#China’s coming for us. This is war. <a href=\"https://twitter.com/hashtag/CCP?src=hash&amp;ref_src=twsrc%5Etfw\">#CCP</a></p>&mdash; Gordon G. Chang (@GordonGChang)', 'tweet_url': 'https://twitter.com/GordonGChang/status/1631460454601043968?ref_src=twsrc%5Etfw'}\n",
      "24 {'sentiment_label': 'negative', 'text_of_tweet': 'One of the many ongoing failures of west and particularly the US is this completely flawed belief that China wants to be a hegemonic power and that this view is shared and demanded by the Chinese people.</p>&mdash; The Sirius Report (@thesiriusreport)', 'tweet_url': 'https://twitter.com/thesiriusreport/status/1631558205124771841?ref_src=twsrc%5Etfw'}\n",
      "25 {'sentiment_label': 'negative', 'text_of_tweet': 'If Australia becomes &quot;Aboriginalia&quot; when we cede sovereignty to the elite militant aborigines, how will they defend the country against the Chinese invasion when it comes? Will they point sticks and throw stones at China&#39;s nuclear arsenal? <a href=\"https://twitter.com/hashtag/voteNO?src=hash&amp;ref_src=twsrc%5Etfw\">#voteNO</a></p>&mdash; Francis_Young (@commonsense058)', 'tweet_url': 'https://twitter.com/commonsense058/status/1631560666103566336?ref_src=twsrc%5Etfw'}\n",
      "26 {'sentiment_label': 'negative', 'text_of_tweet': '@GordonGChang</a> tells One America News China lied about the coronavirus from the beginning. One America’s John Hines has more from CPAC. [VIDEO] <a href=\"https://twitter.com/hashtag/ChinaLiedPeopleDied?src=hash&amp;ref_src=twsrc%5Etfw\">#ChinaLiedPeopleDied</a> <a href=\"https://twitter.com/hashtag/ChinaOwnsBiden?src=hash&amp;ref_src=twsrc%5Etfw\">#ChinaOwnsBiden</a> <a href=\"https://t.co/px1dNsHEeZ\">https://t.co/px1dNsHEeZ</a></p>&mdash; Jenny 1776🇺🇸 (@realouMAGAgirl)', 'tweet_url': 'https://twitter.com/realouMAGAgirl/status/1631638732783730691?ref_src=twsrc%5Etfw'}\n",
      "27 {'sentiment_label': 'neutral', 'text_of_tweet': 'Chinese aerospace <br>engineers used &#13;science developed by an American &#13;hypersonic scientist and a National &#13;Aeronautics Space Administration &#13;(NASA) project to address an issue with &#13;a proposed hypersonic-speed launch &#13;vehicle meant to intercept hypersonic &#13;missiles.<a href=\"https://twitter.com/hashtag/China?src=hash&amp;ref_src=twsrc%5Etfw\">#China</a> <a href=\"https://t.co/Y8h5OCsQyG\">pic.twitter.com/Y8h5OCsQyG</a></p>&mdash; Hira Bashir (@HiraBK5090)', 'tweet_url': 'https://twitter.com/HiraBK5090/status/1631545302250299393?ref_src=twsrc%5Etfw'}\n",
      "28 {'sentiment_label': 'positive', 'text_of_tweet': 'China dominates global tech race. Beijing has a “stunning lead” over the US.<br><br>China is leading the world in 37 out of 44 critical and emerging technologies, the Australian Strategic Policy Institute (ASPI) said.<br><br>„Beijing is the world’s leading science and technology superpower.“</p>&mdash; Make Peace Now; alternative news (@AlternatNews)', 'tweet_url': 'https://twitter.com/AlternatNews/status/1631606264189919232?ref_src=twsrc%5Etfw'}\n",
      "29 {'sentiment_label': 'negative', 'text_of_tweet': 'It appears as though as the tables are turning, it will be the west starved for resources while many of the nations with plentiful resources are gravitating to Russia and China...<br><br>Sudan is ready to cooperate with Russia on oil production issues.<br><br>The head of the Sudan Energy and… <a href=\"https://t.co/HsDWesE4h5\">https://t.co/HsDWesE4h5</a></p>&mdash; GraphicW (@GraphicW5)', 'tweet_url': 'https://twitter.com/GraphicW5/status/1631657452134440963?ref_src=twsrc%5Etfw'}\n",
      "30 {'sentiment_label': 'positive', 'text_of_tweet': 'Yuqi’s stylist in China is always on point! They never miss! <a href=\"https://t.co/lSoHJLHxzP\">pic.twitter.com/lSoHJLHxzP</a></p>&mdash; Singer Xiao Song | Little Giant | Yuqi (@yuqiriiin)', 'tweet_url': 'https://twitter.com/yuqiriiin/status/1631603822203383809?ref_src=twsrc%5Etfw'}\n",
      "31 {'sentiment_label': 'neutral', 'text_of_tweet': 'I’m currently working in China. Almost exactly 100 years ago my great grandfather was here. These are his watercolours he sent home to his son (my grandfather). <a href=\"https://twitter.com/hashtag/History?src=hash&amp;ref_src=twsrc%5Etfw\">#History</a> <a href=\"https://t.co/sipek5usa8\">pic.twitter.com/sipek5usa8</a></p>&mdash; Dr Sam Willis (@DrSamWillis)', 'tweet_url': 'https://twitter.com/DrSamWillis/status/1631487477780213760?ref_src=twsrc%5Etfw'}\n",
      "32 {'sentiment_label': 'positive', 'text_of_tweet': 'Russia&#39;s energy policy will rely on reliable partners, including China and India, but not the West.<br> Russia will not allow the West to &quot;blow up gas pipelines&quot; again -<br> Lavrov</p>&mdash; Enrico60🇨🇳🇷🇺（互fo） (@enfree1993)', 'tweet_url': 'https://twitter.com/enfree1993/status/1631569420278726661?ref_src=twsrc%5Etfw'}\n",
      "33 {'sentiment_label': 'negative', 'text_of_tweet': 'Iranian opposition: Iran is too close to China/Russia, and that&#39;s why the US hates us.<br><br>Russian opposition: Russia is too close to Iran/China, and that&#39;s why the US hates us.<br><br>Chinese opposition: China is too close to Russia/Iran, and that&#39;s why the US hates us.<br><br>LOL.</p>&mdash; DaiWW (@BeijingDai)', 'tweet_url': 'https://twitter.com/BeijingDai/status/1631569408484323328?ref_src=twsrc%5Etfw'}\n",
      "34 {'sentiment_label': 'positive', 'text_of_tweet': 'Justin Trudeau has a level of admiration for China&#39;s money.</p>&mdash; Zachary Tisdale 🇨🇦 (@ztisdale)', 'tweet_url': 'https://twitter.com/ztisdale/status/1631462637031632898?ref_src=twsrc%5Etfw'}\n",
      "35 {'sentiment_label': 'negative', 'text_of_tweet': 'It seems that not only does <a href=\"https://twitter.com/JustinTrudeau?ref_src=twsrc%5Etfw\">@JustinTrudeau</a> have an admiration for the basic dictatorship of China…<br><br>He also has their financing.<a href=\"https://twitter.com/hashtag/ChinaTrudeau?src=hash&amp;ref_src=twsrc%5Etfw\">#ChinaTrudeau</a></p>&mdash; Viva Frei (@thevivafrei)', 'tweet_url': 'https://twitter.com/thevivafrei/status/1631466024158519298?ref_src=twsrc%5Etfw'}\n",
      "36 {'sentiment_label': 'negative', 'text_of_tweet': 'Russia is getting their dick kicked in Ukraine the one thing China and Russia have in common are paper tiger armies that are way over hyped and rife with corruption <a href=\"https://t.co/A7bnnidRDK\">https://t.co/A7bnnidRDK</a></p>&mdash; Toriel1one1 (@toriel1one1)', 'tweet_url': 'https://twitter.com/toriel1one1/status/1631497804345483264?ref_src=twsrc%5Etfw'}\n",
      "37 {'sentiment_label': 'negative', 'text_of_tweet': '🇺🇸🇨🇳☢️⚛️&quot;US is the main source of the nuclear threat in the world, they are hyping the theory of the threat from China in search of an excuse to expand their arsenal.&quot; - Chinese Foreign Ministry</p>&mdash; AZ 🛰🌏🌍🌎 (@AZgeopolitics)', 'tweet_url': 'https://twitter.com/AZgeopolitics/status/1631564558388043776?ref_src=twsrc%5Etfw'}\n",
      "38 {'sentiment_label': 'negative', 'text_of_tweet': 'Man do I have to stop myself from cringing when Lavrov talks.<br><br>Sign of the times really. Outside of energy, parts of defence &amp; a desire to contain China, there is nothing in the relationship anymore.<br><br>Long term stagnation is best case scenario.</p>&mdash; Yew&#39;s Finest (@FinestYew)', 'tweet_url': 'https://twitter.com/FinestYew/status/1631660098958540800?ref_src=twsrc%5Etfw'}\n",
      "39 {'sentiment_label': 'neutral', 'text_of_tweet': '#Flash</a> China has given a fresh loan of USD 700 million to Pakistan at the rate of 8.9%. Two railway stations of Pakistan (Lahore &amp; Sukkur) have been taken by China as security for 99 years or till the full and final payment of this loan, which is earlier. (Sources)</p>&mdash; Baba Banaras™ (@RealBababanaras)', 'tweet_url': 'https://twitter.com/RealBababanaras/status/1631497938596945920?ref_src=twsrc%5Etfw'}\n",
      "40 {'sentiment_label': 'positive', 'text_of_tweet': '#China</a> leading <a href=\"https://twitter.com/hashtag/US?src=hash&amp;ref_src=twsrc%5Etfw\">#US</a> in technology race in all but a few fields, thinktank finds<br><br>Year-long study finds China leads in 37 of 44 areas it tracked, with potential for a monopoly in areas such as nanoscale materials and synthetic biology.<a href=\"https://t.co/IICGKLrDOM\">https://t.co/IICGKLrDOM</a></p>&mdash; Indo-Pacific News - Geo-Politics &amp; Military News (@IndoPac_Info)', 'tweet_url': 'https://twitter.com/IndoPac_Info/status/1631589226478198784?ref_src=twsrc%5Etfw'}\n",
      "41 {'sentiment_label': 'positive', 'text_of_tweet': 'China&#39;s &#39;Two Sessions&#39; annual legislative body begins, here in Beijing, tomorrow.<br><br>With all eyes on China&#39;s top law making body, Reuters reports GDP goals may be set as high as 6% growth for 2023.<a href=\"https://twitter.com/hashtag/China?src=hash&amp;ref_src=twsrc%5Etfw\">#China</a> <a href=\"https://twitter.com/hashtag/TwoSessions?src=hash&amp;ref_src=twsrc%5Etfw\">#TwoSessions</a><a href=\"https://t.co/uZSx67cgRV\">https://t.co/uZSx67cgRV</a></p>&mdash; Jason - 上官杰文 (@ShangguanJiewen)', 'tweet_url': 'https://twitter.com/ShangguanJiewen/status/1631488736885178370?ref_src=twsrc%5Etfw'}\n",
      "42 {'sentiment_label': 'neutral', 'text_of_tweet': 'The Anti-Counterfeit Authority (ACA) has released goods worth Sh50 million that were seized at China Square.<br><br>The quick return of the goods comes a day after the Chinese embassy urged the Kenyan government to intervene to protect Chinese enterprises and citizens.<br><br>— Nation</p>&mdash; Moe (@moneyacademyKE)', 'tweet_url': 'https://twitter.com/moneyacademyKE/status/1631512472644632576?ref_src=twsrc%5Etfw'}\n",
      "43 {'sentiment_label': 'negative', 'text_of_tweet': 'Khan was ousted from power in April after losing a no-confidence vote in his leadership, which he alleged was part of a US-led conspiracy targeting him because of his independent foreign policy decisions on Russia, China and Afghanistan.<a href=\"https://twitter.com/7n_Star_?ref_src=twsrc%5Etfw\">@7n_Star_</a><a href=\"https://twitter.com/hashtag/%D8%AA%D8%A8%D8%A7%DB%81%DB%8C_%D8%B3%D8%B1%DA%A9%D8%A7%D8%B1_%D8%AC%D8%A7%D9%86_%DA%86%DA%BE%D9%88%DA%91%D9%88?src=hash&amp;ref_src=twsrc%5Etfw\">#تباہی_سرکار_جان_چھوڑو</a></p>&mdash; 𝐍αʝɱυʂ ʂαʅιԋҽҽɳ🙃 (@7n_Star_)', 'tweet_url': 'https://twitter.com/7n_Star_/status/1631597034254872577?ref_src=twsrc%5Etfw'}\n",
      "44 {'sentiment_label': 'negative', 'text_of_tweet': '#China</a> providing <a href=\"https://twitter.com/hashtag/Russia?src=hash&amp;ref_src=twsrc%5Etfw\">#Russia</a> uniforms, weapons and ammunition only prolongs the war in <a href=\"https://twitter.com/hashtag/Ukraine?src=hash&amp;ref_src=twsrc%5Etfw\">#Ukraine</a>. Russia has the bodies; China will outfit them. Not only will it prolong the war - but it also weakens Russia as well. Is that the plan? Who needs enemies when you <a href=\"https://t.co/pzUiyZATEi\">https://t.co/pzUiyZATEi</a>… <a href=\"https://t.co/xVfdrqVlby\">https://t.co/xVfdrqVlby</a></p>&mdash; Jon Sweet (@JESweet2022)', 'tweet_url': 'https://twitter.com/JESweet2022/status/1631630908024401927?ref_src=twsrc%5Etfw'}\n",
      "45 {'sentiment_label': 'negative', 'text_of_tweet': 'Protests in Kenya against China.<br>People in Kenya think that Chinese projects in Kenya help Chinese companies but not workers in Kenya.<a href=\"https://twitter.com/hashtag/China?src=hash&amp;ref_src=twsrc%5Etfw\">#China</a> <a href=\"https://twitter.com/hashtag/Chinaprotests?src=hash&amp;ref_src=twsrc%5Etfw\">#Chinaprotests</a> <a href=\"https://twitter.com/hashtag/Kenya?src=hash&amp;ref_src=twsrc%5Etfw\">#Kenya</a> <a href=\"https://t.co/qOZI6yyWwI\">pic.twitter.com/qOZI6yyWwI</a></p>&mdash; That is China (@2022_Lockdown)', 'tweet_url': 'https://twitter.com/2022_Lockdown/status/1631488665384779776?ref_src=twsrc%5Etfw'}\n",
      "46 {'sentiment_label': 'neutral', 'text_of_tweet': 'My latest for <a href=\"https://twitter.com/dw_hotspotasia?ref_src=twsrc%5Etfw\">@dw_hotspotasia</a>: As <a href=\"https://twitter.com/hashtag/China?src=hash&amp;ref_src=twsrc%5Etfw\">#China</a>&#39;s rubber-stamp parliament gathers in Beijing this weekend, President Xi Jinping is expected to officially kick off his third term. China&#39;s Communist party will likely initiate further institutional reform. <a href=\"https://t.co/8lbe9CJ2SO\">https://t.co/8lbe9CJ2SO</a></p>&mdash; William Yang (@WilliamYang120)', 'tweet_url': 'https://twitter.com/WilliamYang120/status/1631630614549118978?ref_src=twsrc%5Etfw'}\n",
      "47 {'sentiment_label': 'negative', 'text_of_tweet': 'Beijing has criticized Canberra for blocking a bid by a Chinese-linked company to boost its ownership in a rare earths supplier, an episode that underscores the challenges the two nations face repairing ties <a href=\"https://t.co/1zbM0OKNgi\">https://t.co/1zbM0OKNgi</a></p>&mdash; Bloomberg (@business)', 'tweet_url': 'https://twitter.com/business/status/1631602420357758977?ref_src=twsrc%5Etfw'}\n",
      "48 {'sentiment_label': 'negative', 'text_of_tweet': 'The return of China’s top basketball league to its normal season format following years of Covid disruptions has been marred in controversy <a href=\"https://t.co/ufVfOYdDO0\">https://t.co/ufVfOYdDO0</a></p>&mdash; CNN (@CNN)', 'tweet_url': 'https://twitter.com/CNN/status/1631615109750554624?ref_src=twsrc%5Etfw'}\n",
      "49 {'sentiment_label': 'neutral', 'text_of_tweet': 'In meeting with Saudi FM Prince Faisal bin Farhan Al Saud, Chinese FM <a href=\"https://twitter.com/hashtag/QinGang?src=hash&amp;ref_src=twsrc%5Etfw\">#QinGang</a> said <a href=\"https://twitter.com/hashtag/China?src=hash&amp;ref_src=twsrc%5Etfw\">#China</a> is ready to keep the positive momentum of high-level exchanges with <a href=\"https://twitter.com/hashtag/SaudiaArabia?src=hash&amp;ref_src=twsrc%5Etfw\">#SaudiaArabia</a> and work together to advance high-quality Belt and Road Cooperation. <a href=\"https://t.co/4A5v9ouAxy\">pic.twitter.com/4A5v9ouAxy</a></p>&mdash; Liu Yongfeng (@liupheonix)', 'tweet_url': 'https://twitter.com/liupheonix/status/1631473422818742272?ref_src=twsrc%5Etfw'}\n",
      "50 {'sentiment_label': '', 'text_of_tweet': '', 'tweet_url': ''}\n"
     ]
    }
   ],
   "source": [
    "for id_, tweet_info in my_tweets.items():\n",
    "    print(id_, tweet_info)\n"
   ]
  },
  {
   "cell_type": "markdown",
   "metadata": {},
   "source": [
    "### [5 points] Question 3:\n",
    "\n",
    "Run VADER on your own tweets (see function **run_vader** from notebook **Lab2-Sentiment-analysis-using-VADER.ipynb**). You can use the code snippet below this explanation as a starting point. \n",
    "* [2.5 points] a. Perform a quantitative evaluation. Explain the different scores, and explain which scores are most relevant and why.\n",
    "* [2.5 points] b. Perform an error analysis: select 10 positive, 10 negative and 10 neutral tweets that are not correctly classified and try to understand why. Refer to the VADER-rules and the VADER-lexicon. Of course, if there are less than 10 errors for a category, you only have to check those. For example, if there are only 5 errors for positive tweets, you just describe those."
   ]
  },
  {
   "cell_type": "code",
   "execution_count": 15,
   "outputs": [],
   "source": [
    "import spacy\n",
    "from nltk.sentiment import vader\n",
    "from nltk.sentiment.vader import SentimentIntensityAnalyzer\n",
    "vader_model = SentimentIntensityAnalyzer()\n"
   ],
   "metadata": {
    "collapsed": false
   }
  },
  {
   "cell_type": "code",
   "execution_count": 16,
   "outputs": [],
   "source": [
    "def run_vader(textual_unit,\n",
    "              lemmatize=False,\n",
    "              parts_of_speech_to_consider=None,\n",
    "              verbose=0):\n",
    "    \"\"\"\n",
    "    Run VADER on a sentence from spacy\n",
    "\n",
    "    :param str textual unit: a textual unit, e.g., sentence, sentences (one string)\n",
    "    (by looping over doc.sents)\n",
    "    :param bool lemmatize: If True, provide lemmas to VADER instead of words\n",
    "    :param set parts_of_speech_to_consider:\n",
    "    -None or empty set: all parts of speech are provided\n",
    "    -non-empty set: only these parts of speech are considered.\n",
    "    :param int verbose: if set to 1, information is printed\n",
    "    about input and output\n",
    "\n",
    "    :rtype: dict\n",
    "    :return: vader output dict\n",
    "    \"\"\"\n",
    "    nlp = spacy.load('en_core_web_sm')\n",
    "    doc = nlp(textual_unit)\n",
    "\n",
    "    input_to_vader = []\n",
    "\n",
    "    for sent in doc.sents:\n",
    "        for token in sent:\n",
    "\n",
    "            to_add = token.text\n",
    "\n",
    "            if lemmatize:\n",
    "                to_add = token.lemma_\n",
    "\n",
    "                if to_add == '-PRON-':\n",
    "                    to_add = token.text\n",
    "\n",
    "            if parts_of_speech_to_consider:\n",
    "                if token.pos_ in parts_of_speech_to_consider:\n",
    "                    input_to_vader.append(to_add)\n",
    "            else:\n",
    "                input_to_vader.append(to_add)\n",
    "\n",
    "    scores = vader_model.polarity_scores(' '.join(input_to_vader))\n",
    "\n",
    "\n",
    "    return scores"
   ],
   "metadata": {
    "collapsed": false
   }
  },
  {
   "cell_type": "code",
   "execution_count": 17,
   "metadata": {},
   "outputs": [],
   "source": [
    "def vader_output_to_label(vader_output):\n",
    "    \"\"\"\n",
    "    map vader output e.g.,\n",
    "    {'neg': 0.0, 'neu': 0.0, 'pos': 1.0, 'compound': 0.4215}\n",
    "    to one of the following values:\n",
    "    a) positive float -> 'positive'\n",
    "    b) 0.0 -> 'neutral'\n",
    "    c) negative float -> 'negative'\n",
    "    \n",
    "    :param dict vader_output: output dict from vader\n",
    "    \n",
    "    :rtype: str\n",
    "    :return: 'negative' | 'neutral' | 'positive'\n",
    "    \"\"\"\n",
    "    compound = vader_output['compound']\n",
    "    \n",
    "    if compound < 0:\n",
    "        return 'negative'\n",
    "    elif compound == 0.0:\n",
    "        return 'neutral'\n",
    "    elif compound > 0.0:\n",
    "        return 'positive'\n",
    "    \n",
    "assert vader_output_to_label( {'neg': 0.0, 'neu': 0.0, 'pos': 1.0, 'compound': 0.0}) == 'neutral'\n",
    "assert vader_output_to_label( {'neg': 0.0, 'neu': 0.0, 'pos': 1.0, 'compound': 0.01}) == 'positive'\n",
    "assert vader_output_to_label( {'neg': 0.0, 'neu': 0.0, 'pos': 1.0, 'compound': -0.01}) == 'negative'"
   ]
  },
  {
   "cell_type": "code",
   "execution_count": 20,
   "metadata": {},
   "outputs": [
    {
     "name": "stdout",
     "output_type": "stream",
     "text": [
      "              precision    recall  f1-score   support\n",
      "\n",
      "                   0.00      0.00      0.00         1\n",
      "    negative       0.84      0.48      0.62        33\n",
      "     neutral       0.20      0.29      0.24         7\n",
      "    positive       0.19      0.44      0.27         9\n",
      "\n",
      "    accuracy                           0.44        50\n",
      "   macro avg       0.31      0.30      0.28        50\n",
      "weighted avg       0.62      0.44      0.49        50\n",
      "\n"
     ]
    },
    {
     "name": "stderr",
     "output_type": "stream",
     "text": [
      "/Users/bella/TextMining/lib/python3.10/site-packages/sklearn/metrics/_classification.py:1344: UndefinedMetricWarning: Precision and F-score are ill-defined and being set to 0.0 in labels with no predicted samples. Use `zero_division` parameter to control this behavior.\n",
      "  _warn_prf(average, modifier, msg_start, len(result))\n",
      "/Users/bella/TextMining/lib/python3.10/site-packages/sklearn/metrics/_classification.py:1344: UndefinedMetricWarning: Precision and F-score are ill-defined and being set to 0.0 in labels with no predicted samples. Use `zero_division` parameter to control this behavior.\n",
      "  _warn_prf(average, modifier, msg_start, len(result))\n",
      "/Users/bella/TextMining/lib/python3.10/site-packages/sklearn/metrics/_classification.py:1344: UndefinedMetricWarning: Precision and F-score are ill-defined and being set to 0.0 in labels with no predicted samples. Use `zero_division` parameter to control this behavior.\n",
      "  _warn_prf(average, modifier, msg_start, len(result))\n"
     ]
    }
   ],
   "source": [
    "tweets = []\n",
    "all_vader_output = []\n",
    "gold = []\n",
    "\n",
    "# settings (to change for different experiments)\n",
    "to_lemmatize = True \n",
    "pos = set()\n",
    "\n",
    "for id_, tweet_info in my_tweets.items():\n",
    "    the_tweet = tweet_info['text_of_tweet']\n",
    "    vader_output = run_vader(the_tweet)\n",
    "    vader_label = vader_output_to_label(vader_output)# convert vader output to category\n",
    "    tweets.append(the_tweet)\n",
    "    all_vader_output.append(vader_label)\n",
    "    gold.append(tweet_info['sentiment_label'])\n",
    "    \n",
    "\n",
    "# use scikit-learn's classification report\n",
    "from sklearn.metrics import classification_report\n",
    "print(classification_report(gold, all_vader_output))"
   ]
  },
  {
   "cell_type": "markdown",
   "source": [
    "Quantitative evaluation:\n",
    "\n",
    "* Precision: The precision is intuitively the ability of the classifier not to label as positive a sample that is negative. The best value is 1 and the worst value is 0.\n",
    "*\n",
    "* Recall: The recall is intuitively the ability of the classifier to find all the positive samples. The best value is 1 and the worst value is 0.\n",
    "\n",
    "* F1-score: The F1 score can be interpreted as a weighted average of the precision and recall, where an F1 score reaches its best value at 1 and worst score at 0. The relative contribution of precision and recall to the F1 score are equal.\n",
    "\n",
    "* Support: The support is the number of occurrences of each class in y_true.\n",
    "\n",
    "* Accuracy: The accuracy is the number of correctly classified samples divided by the total number of samples. The best value is 1 and the worst value is 0.\n",
    "\n",
    "* Macro avg: Calculate metrics for each label, and find their unweighted mean. This does not take label imbalance into account.\n",
    "\n",
    "* Weighted avg: Calculate metrics for each label, and find their average weighted by support (the number of true instances for each label). This alters ‘macro’ to account for label imbalance; it can result in an F-score that is not between precision and recall.\n",
    "\n",
    "* Micro avg: Calculate metrics globally by counting the total true positives, false negatives and false positives. This is a better metric when we have class imbalance.\n",
    "\n",
    "* Samples avg: Calculate metrics for each instance, and find their average (only meaningful for multilabel classification where this differs from accuracy_score).\n",
    "*"
   ],
   "metadata": {
    "collapsed": false
   }
  },
  {
   "cell_type": "code",
   "execution_count": 26,
   "outputs": [
    {
     "name": "stdout",
     "output_type": "stream",
     "text": [
      "Number of misclassified positive tweets: 5\n",
      "“cHiNa cAn’T iNnOvAtE.” 💥Analysis by ASPI* shows that China leads the USA in whopping 37 out of 44 critical scientific areas such as AI, quantum computing, biotech, and advanced materials.<br><br>*funded by U.S. military industrial complex, so no pro-China bias <a href=\"https://t.co/CgNUmGA0iE\"> pic.twitter.com/CgNUmGA0iE\n",
      "Number of misclassified negative tweets: 17\n",
      "Number of misclassified neutral tweets: 5\n"
     ]
    }
   ],
   "source": [
    "# error analysis\n",
    "misclassified_pos = []\n",
    "misclassified_neg = []\n",
    "misclassified_neu = []\n",
    "\n",
    "for i, (tweet, vader_label, gold_label) in enumerate(zip(tweets, all_vader_output, gold)):\n",
    "    if vader_label != gold_label:\n",
    "        if gold_label == 'positive':\n",
    "            misclassified_pos.append((i, tweet, vader_label, gold_label))\n",
    "        elif gold_label == 'negative':\n",
    "            misclassified_neg.append((i, tweet, vader_label, gold_label))\n",
    "        elif gold_label == 'neutral':\n",
    "            misclassified_neu.append((i, tweet, vader_label, gold_label))\n",
    "\n",
    "print('Number of misclassified positive tweets: {}'.format(len(misclassified_pos)))\n",
    "print('Number of misclassified negative tweets: {}'.format(len(misclassified_neg)))\n",
    "print('Number of misclassified neutral tweets: {}'.format(len(misclassified_neu)))\n"
   ],
   "metadata": {
    "collapsed": false
   }
  },
  {
   "cell_type": "code",
   "execution_count": 27,
   "outputs": [
    {
     "name": "stdout",
     "output_type": "stream",
     "text": [
      "Tweet: “cHiNa cAn’T iNnOvAtE.” 💥Analysis by ASPI* shows that China leads the USA in whopping 37 out of 44 critical scientific areas such as AI, quantum computing, biotech, and advanced materials.<br><br>*funded by U.S. military industrial complex, so no pro-China bias <a href=\"https://t.co/CgNUmGA0iE\"> pic.twitter.com/CgNUmGA0iE\n",
      "Vader label: negative\n",
      "Gold label: positive\n",
      "-----------------------------\n",
      "Tweet: China has a prevalent weapon magazine culture which I can’t find in America. There are about 2 dozens of highly professional monthlies published and penned by the MIC itself covering every branch of the armed forces. You can buy these magazines at every street corner across the <a href=\"https://t.co/YVNteeP3Iq\">pic.twitter.com/YVNteeP3Iq</a></p>&mdash; Governor General (@manchuxi)\n",
      "Vader label: negative\n",
      "Gold label: positive\n",
      "-----------------------------\n",
      "Tweet: China has a &quot;stunning lead&quot; in 37 out of 44 critical and emerging technologies as Western democracies lose a global competition for research output, a security think tank said on Thursday after tracking defense, space, energy and biotechnology. <a href=\"https://t.co/icY1FHvVGK\">https://t.co/icY1FHvVGK</a></p>&mdash; NEWSMAX (@NEWSMAX)\n",
      "Vader label: neutral\n",
      "Gold label: positive\n",
      "-----------------------------\n",
      "Tweet: Russia&#39;s energy policy will rely on reliable partners, including China and India, but not the West.<br> Russia will not allow the West to &quot;blow up gas pipelines&quot; again -<br> Lavrov</p>&mdash; Enrico60🇨🇳🇷🇺（互fo） (@enfree1993)\n",
      "Vader label: negative\n",
      "Gold label: positive\n",
      "-----------------------------\n",
      "Tweet: #China</a> leading <a href=\"https://twitter.com/hashtag/US?src=hash&amp;ref_src=twsrc%5Etfw\">#US</a> in technology race in all but a few fields, thinktank finds<br><br>Year-long study finds China leads in 37 of 44 areas it tracked, with potential for a monopoly in areas such as nanoscale materials and synthetic biology.<a href=\"https://t.co/IICGKLrDOM\">https://t.co/IICGKLrDOM</a></p>&mdash; Indo-Pacific News - Geo-Politics &amp; Military News (@IndoPac_Info)\n",
      "Vader label: neutral\n",
      "Gold label: positive\n",
      "-----------------------------\n"
     ]
    }
   ],
   "source": [
    "# print misclassified positive tweets\n",
    "for i, tweet, vader_label, gold_label in misclassified_pos:\n",
    "    print('Tweet: {}'.format(tweet))\n",
    "    print('Vader label: {}'.format(vader_label))\n",
    "    print('Gold label: {}'.format(gold_label))\n",
    "    print('-----------------------------')"
   ],
   "metadata": {
    "collapsed": false
   }
  },
  {
   "cell_type": "markdown",
   "source": [
    "Error Analysis on Positive Tweets:\n"
   ],
   "metadata": {
    "collapsed": false
   }
  },
  {
   "cell_type": "code",
   "execution_count": null,
   "outputs": [],
   "source": [
    "# print misclassified negative tweets\n",
    "for i, tweet, vader_label, gold_label in misclassified_neg:\n",
    "    print('Tweet: {}'.format(tweet))\n",
    "    print('Vader label: {}'.format(vader_label))\n",
    "    print('Gold label: {}'.format(gold_label))\n",
    "    print('-----------------------------')\n"
   ],
   "metadata": {
    "collapsed": false
   }
  },
  {
   "cell_type": "markdown",
   "source": [
    "Error Analysis on Negative Tweets:"
   ],
   "metadata": {
    "collapsed": false
   }
  },
  {
   "cell_type": "code",
   "execution_count": null,
   "outputs": [],
   "source": [
    "# print misclassified neutral tweets\n",
    "for i, tweet, vader_label, gold_label in misclassified_neu:\n",
    "    print('Tweet: {}'.format(tweet))\n",
    "    print('Vader label: {}'.format(vader_label))\n",
    "    print('Gold label: {}'.format(gold_label))\n",
    "    print('-----------------------------')"
   ],
   "metadata": {
    "collapsed": false
   }
  },
  {
   "cell_type": "markdown",
   "source": [
    "Error Analysis on Neutral Tweets:"
   ],
   "metadata": {
    "collapsed": false
   }
  },
  {
   "cell_type": "markdown",
   "metadata": {},
   "source": [
    "### [4 points] Question 4:\n",
    "Run VADER on the set of airline tweets with the following settings:\n",
    "\n",
    "* Run VADER (as it is) on the set of airline tweets \n",
    "* Run VADER on the set of airline tweets after having lemmatized the text\n",
    "* Run VADER on the set of airline tweets with only adjectives\n",
    "* Run VADER on the set of airline tweets with only adjectives and after having lemmatized the text\n",
    "* Run VADER on the set of airline tweets with only nouns\n",
    "* Run VADER on the set of airline tweets with only nouns and after having lemmatized the text\n",
    "* Run VADER on the set of airline tweets with only verbs\n",
    "* Run VADER on the set of airline tweets with only verbs and after having lemmatized the text\n",
    "\n",
    "* [1 point] a. Generate for all separate experiments the classification report, i.e., Precision, Recall, and F<sub>1</sub> scores per category as well as micro and macro averages. **Use a different code cell (or multiple code cells) for each experiment.**\n",
    "* [3 points] b. Compare the scores and explain what they tell you.\n",
    "* - Does lemmatisation help? Explain why or why not.\n",
    "* - Are all parts of speech equally important for sentiment analysis? Explain why or why not."
   ]
  },
  {
   "cell_type": "code",
   "execution_count": 31,
   "outputs": [],
   "source": [
    "import pathlib\n",
    "from sklearn.datasets import load_files\n",
    "cwd = pathlib.Path.cwd()\n",
    "airline_tweets_folder = cwd.joinpath('airlinetweets')\n",
    "airline_tweets_train = load_files(str(airline_tweets_folder))\n"
   ],
   "metadata": {
    "collapsed": false
   }
  },
  {
   "cell_type": "code",
   "execution_count": 32,
   "metadata": {},
   "outputs": [
    {
     "ename": "KeyboardInterrupt",
     "evalue": "",
     "output_type": "error",
     "traceback": [
      "\u001B[0;31m---------------------------------------------------------------------------\u001B[0m",
      "\u001B[0;31mKeyboardInterrupt\u001B[0m                         Traceback (most recent call last)",
      "Cell \u001B[0;32mIn[32], line 8\u001B[0m\n\u001B[1;32m      6\u001B[0m \u001B[38;5;28;01mfor\u001B[39;00m i, tweet \u001B[38;5;129;01min\u001B[39;00m \u001B[38;5;28menumerate\u001B[39m(airline_tweets_train\u001B[38;5;241m.\u001B[39mdata):\n\u001B[1;32m      7\u001B[0m     tweets\u001B[38;5;241m.\u001B[39mappend(tweet\u001B[38;5;241m.\u001B[39mdecode(\u001B[38;5;124m'\u001B[39m\u001B[38;5;124mutf-8\u001B[39m\u001B[38;5;124m'\u001B[39m))\n\u001B[0;32m----> 8\u001B[0m     vader_output \u001B[38;5;241m=\u001B[39m \u001B[43mrun_vader\u001B[49m\u001B[43m(\u001B[49m\u001B[43mtweet\u001B[49m\u001B[38;5;241;43m.\u001B[39;49m\u001B[43mdecode\u001B[49m\u001B[43m(\u001B[49m\u001B[38;5;124;43m'\u001B[39;49m\u001B[38;5;124;43mutf-8\u001B[39;49m\u001B[38;5;124;43m'\u001B[39;49m\u001B[43m)\u001B[49m\u001B[43m)\u001B[49m\n\u001B[1;32m      9\u001B[0m     vader_label \u001B[38;5;241m=\u001B[39m vader_output_to_label(vader_output)\n\u001B[1;32m     10\u001B[0m     all_vader_output\u001B[38;5;241m.\u001B[39mappend(vader_label)\n",
      "Cell \u001B[0;32mIn[16], line 20\u001B[0m, in \u001B[0;36mrun_vader\u001B[0;34m(textual_unit, lemmatize, parts_of_speech_to_consider, verbose)\u001B[0m\n\u001B[1;32m      1\u001B[0m \u001B[38;5;28;01mdef\u001B[39;00m \u001B[38;5;21mrun_vader\u001B[39m(textual_unit,\n\u001B[1;32m      2\u001B[0m               lemmatize\u001B[38;5;241m=\u001B[39m\u001B[38;5;28;01mFalse\u001B[39;00m,\n\u001B[1;32m      3\u001B[0m               parts_of_speech_to_consider\u001B[38;5;241m=\u001B[39m\u001B[38;5;28;01mNone\u001B[39;00m,\n\u001B[1;32m      4\u001B[0m               verbose\u001B[38;5;241m=\u001B[39m\u001B[38;5;241m0\u001B[39m):\n\u001B[1;32m      5\u001B[0m \u001B[38;5;250m    \u001B[39m\u001B[38;5;124;03m\"\"\"\u001B[39;00m\n\u001B[1;32m      6\u001B[0m \u001B[38;5;124;03m    Run VADER on a sentence from spacy\u001B[39;00m\n\u001B[1;32m      7\u001B[0m \n\u001B[0;32m   (...)\u001B[0m\n\u001B[1;32m     18\u001B[0m \u001B[38;5;124;03m    :return: vader output dict\u001B[39;00m\n\u001B[1;32m     19\u001B[0m \u001B[38;5;124;03m    \"\"\"\u001B[39;00m\n\u001B[0;32m---> 20\u001B[0m     nlp \u001B[38;5;241m=\u001B[39m \u001B[43mspacy\u001B[49m\u001B[38;5;241;43m.\u001B[39;49m\u001B[43mload\u001B[49m\u001B[43m(\u001B[49m\u001B[38;5;124;43m'\u001B[39;49m\u001B[38;5;124;43men_core_web_sm\u001B[39;49m\u001B[38;5;124;43m'\u001B[39;49m\u001B[43m)\u001B[49m\n\u001B[1;32m     21\u001B[0m     doc \u001B[38;5;241m=\u001B[39m nlp(textual_unit)\n\u001B[1;32m     23\u001B[0m     input_to_vader \u001B[38;5;241m=\u001B[39m []\n",
      "File \u001B[0;32m~/TextMining/lib/python3.10/site-packages/spacy/__init__.py:54\u001B[0m, in \u001B[0;36mload\u001B[0;34m(name, vocab, disable, enable, exclude, config)\u001B[0m\n\u001B[1;32m     30\u001B[0m \u001B[38;5;28;01mdef\u001B[39;00m \u001B[38;5;21mload\u001B[39m(\n\u001B[1;32m     31\u001B[0m     name: Union[\u001B[38;5;28mstr\u001B[39m, Path],\n\u001B[1;32m     32\u001B[0m     \u001B[38;5;241m*\u001B[39m,\n\u001B[0;32m   (...)\u001B[0m\n\u001B[1;32m     37\u001B[0m     config: Union[Dict[\u001B[38;5;28mstr\u001B[39m, Any], Config] \u001B[38;5;241m=\u001B[39m util\u001B[38;5;241m.\u001B[39mSimpleFrozenDict(),\n\u001B[1;32m     38\u001B[0m ) \u001B[38;5;241m-\u001B[39m\u001B[38;5;241m>\u001B[39m Language:\n\u001B[1;32m     39\u001B[0m \u001B[38;5;250m    \u001B[39m\u001B[38;5;124;03m\"\"\"Load a spaCy model from an installed package or a local path.\u001B[39;00m\n\u001B[1;32m     40\u001B[0m \n\u001B[1;32m     41\u001B[0m \u001B[38;5;124;03m    name (str): Package name or model path.\u001B[39;00m\n\u001B[0;32m   (...)\u001B[0m\n\u001B[1;32m     52\u001B[0m \u001B[38;5;124;03m    RETURNS (Language): The loaded nlp object.\u001B[39;00m\n\u001B[1;32m     53\u001B[0m \u001B[38;5;124;03m    \"\"\"\u001B[39;00m\n\u001B[0;32m---> 54\u001B[0m     \u001B[38;5;28;01mreturn\u001B[39;00m \u001B[43mutil\u001B[49m\u001B[38;5;241;43m.\u001B[39;49m\u001B[43mload_model\u001B[49m\u001B[43m(\u001B[49m\n\u001B[1;32m     55\u001B[0m \u001B[43m        \u001B[49m\u001B[43mname\u001B[49m\u001B[43m,\u001B[49m\n\u001B[1;32m     56\u001B[0m \u001B[43m        \u001B[49m\u001B[43mvocab\u001B[49m\u001B[38;5;241;43m=\u001B[39;49m\u001B[43mvocab\u001B[49m\u001B[43m,\u001B[49m\n\u001B[1;32m     57\u001B[0m \u001B[43m        \u001B[49m\u001B[43mdisable\u001B[49m\u001B[38;5;241;43m=\u001B[39;49m\u001B[43mdisable\u001B[49m\u001B[43m,\u001B[49m\n\u001B[1;32m     58\u001B[0m \u001B[43m        \u001B[49m\u001B[43menable\u001B[49m\u001B[38;5;241;43m=\u001B[39;49m\u001B[43menable\u001B[49m\u001B[43m,\u001B[49m\n\u001B[1;32m     59\u001B[0m \u001B[43m        \u001B[49m\u001B[43mexclude\u001B[49m\u001B[38;5;241;43m=\u001B[39;49m\u001B[43mexclude\u001B[49m\u001B[43m,\u001B[49m\n\u001B[1;32m     60\u001B[0m \u001B[43m        \u001B[49m\u001B[43mconfig\u001B[49m\u001B[38;5;241;43m=\u001B[39;49m\u001B[43mconfig\u001B[49m\u001B[43m,\u001B[49m\n\u001B[1;32m     61\u001B[0m \u001B[43m    \u001B[49m\u001B[43m)\u001B[49m\n",
      "File \u001B[0;32m~/TextMining/lib/python3.10/site-packages/spacy/util.py:432\u001B[0m, in \u001B[0;36mload_model\u001B[0;34m(name, vocab, disable, enable, exclude, config)\u001B[0m\n\u001B[1;32m    430\u001B[0m     \u001B[38;5;28;01mreturn\u001B[39;00m get_lang_class(name\u001B[38;5;241m.\u001B[39mreplace(\u001B[38;5;124m\"\u001B[39m\u001B[38;5;124mblank:\u001B[39m\u001B[38;5;124m\"\u001B[39m, \u001B[38;5;124m\"\u001B[39m\u001B[38;5;124m\"\u001B[39m))()\n\u001B[1;32m    431\u001B[0m \u001B[38;5;28;01mif\u001B[39;00m is_package(name):  \u001B[38;5;66;03m# installed as package\u001B[39;00m\n\u001B[0;32m--> 432\u001B[0m     \u001B[38;5;28;01mreturn\u001B[39;00m \u001B[43mload_model_from_package\u001B[49m\u001B[43m(\u001B[49m\u001B[43mname\u001B[49m\u001B[43m,\u001B[49m\u001B[43m \u001B[49m\u001B[38;5;241;43m*\u001B[39;49m\u001B[38;5;241;43m*\u001B[39;49m\u001B[43mkwargs\u001B[49m\u001B[43m)\u001B[49m  \u001B[38;5;66;03m# type: ignore[arg-type]\u001B[39;00m\n\u001B[1;32m    433\u001B[0m \u001B[38;5;28;01mif\u001B[39;00m Path(name)\u001B[38;5;241m.\u001B[39mexists():  \u001B[38;5;66;03m# path to model data directory\u001B[39;00m\n\u001B[1;32m    434\u001B[0m     \u001B[38;5;28;01mreturn\u001B[39;00m load_model_from_path(Path(name), \u001B[38;5;241m*\u001B[39m\u001B[38;5;241m*\u001B[39mkwargs)  \u001B[38;5;66;03m# type: ignore[arg-type]\u001B[39;00m\n",
      "File \u001B[0;32m~/TextMining/lib/python3.10/site-packages/spacy/util.py:468\u001B[0m, in \u001B[0;36mload_model_from_package\u001B[0;34m(name, vocab, disable, enable, exclude, config)\u001B[0m\n\u001B[1;32m    451\u001B[0m \u001B[38;5;250m\u001B[39m\u001B[38;5;124;03m\"\"\"Load a model from an installed package.\u001B[39;00m\n\u001B[1;32m    452\u001B[0m \n\u001B[1;32m    453\u001B[0m \u001B[38;5;124;03mname (str): The package name.\u001B[39;00m\n\u001B[0;32m   (...)\u001B[0m\n\u001B[1;32m    465\u001B[0m \u001B[38;5;124;03mRETURNS (Language): The loaded nlp object.\u001B[39;00m\n\u001B[1;32m    466\u001B[0m \u001B[38;5;124;03m\"\"\"\u001B[39;00m\n\u001B[1;32m    467\u001B[0m \u001B[38;5;28mcls\u001B[39m \u001B[38;5;241m=\u001B[39m importlib\u001B[38;5;241m.\u001B[39mimport_module(name)\n\u001B[0;32m--> 468\u001B[0m \u001B[38;5;28;01mreturn\u001B[39;00m \u001B[38;5;28;43mcls\u001B[39;49m\u001B[38;5;241;43m.\u001B[39;49m\u001B[43mload\u001B[49m\u001B[43m(\u001B[49m\u001B[43mvocab\u001B[49m\u001B[38;5;241;43m=\u001B[39;49m\u001B[43mvocab\u001B[49m\u001B[43m,\u001B[49m\u001B[43m \u001B[49m\u001B[43mdisable\u001B[49m\u001B[38;5;241;43m=\u001B[39;49m\u001B[43mdisable\u001B[49m\u001B[43m,\u001B[49m\u001B[43m \u001B[49m\u001B[43menable\u001B[49m\u001B[38;5;241;43m=\u001B[39;49m\u001B[43menable\u001B[49m\u001B[43m,\u001B[49m\u001B[43m \u001B[49m\u001B[43mexclude\u001B[49m\u001B[38;5;241;43m=\u001B[39;49m\u001B[43mexclude\u001B[49m\u001B[43m,\u001B[49m\u001B[43m \u001B[49m\u001B[43mconfig\u001B[49m\u001B[38;5;241;43m=\u001B[39;49m\u001B[43mconfig\u001B[49m\u001B[43m)\u001B[49m\n",
      "File \u001B[0;32m~/TextMining/lib/python3.10/site-packages/en_core_web_sm/__init__.py:10\u001B[0m, in \u001B[0;36mload\u001B[0;34m(**overrides)\u001B[0m\n\u001B[1;32m      9\u001B[0m \u001B[38;5;28;01mdef\u001B[39;00m \u001B[38;5;21mload\u001B[39m(\u001B[38;5;241m*\u001B[39m\u001B[38;5;241m*\u001B[39moverrides):\n\u001B[0;32m---> 10\u001B[0m     \u001B[38;5;28;01mreturn\u001B[39;00m \u001B[43mload_model_from_init_py\u001B[49m\u001B[43m(\u001B[49m\u001B[38;5;18;43m__file__\u001B[39;49m\u001B[43m,\u001B[49m\u001B[43m \u001B[49m\u001B[38;5;241;43m*\u001B[39;49m\u001B[38;5;241;43m*\u001B[39;49m\u001B[43moverrides\u001B[49m\u001B[43m)\u001B[49m\n",
      "File \u001B[0;32m~/TextMining/lib/python3.10/site-packages/spacy/util.py:649\u001B[0m, in \u001B[0;36mload_model_from_init_py\u001B[0;34m(init_file, vocab, disable, enable, exclude, config)\u001B[0m\n\u001B[1;32m    647\u001B[0m \u001B[38;5;28;01mif\u001B[39;00m \u001B[38;5;129;01mnot\u001B[39;00m model_path\u001B[38;5;241m.\u001B[39mexists():\n\u001B[1;32m    648\u001B[0m     \u001B[38;5;28;01mraise\u001B[39;00m \u001B[38;5;167;01mIOError\u001B[39;00m(Errors\u001B[38;5;241m.\u001B[39mE052\u001B[38;5;241m.\u001B[39mformat(path\u001B[38;5;241m=\u001B[39mdata_path))\n\u001B[0;32m--> 649\u001B[0m \u001B[38;5;28;01mreturn\u001B[39;00m \u001B[43mload_model_from_path\u001B[49m\u001B[43m(\u001B[49m\n\u001B[1;32m    650\u001B[0m \u001B[43m    \u001B[49m\u001B[43mdata_path\u001B[49m\u001B[43m,\u001B[49m\n\u001B[1;32m    651\u001B[0m \u001B[43m    \u001B[49m\u001B[43mvocab\u001B[49m\u001B[38;5;241;43m=\u001B[39;49m\u001B[43mvocab\u001B[49m\u001B[43m,\u001B[49m\n\u001B[1;32m    652\u001B[0m \u001B[43m    \u001B[49m\u001B[43mmeta\u001B[49m\u001B[38;5;241;43m=\u001B[39;49m\u001B[43mmeta\u001B[49m\u001B[43m,\u001B[49m\n\u001B[1;32m    653\u001B[0m \u001B[43m    \u001B[49m\u001B[43mdisable\u001B[49m\u001B[38;5;241;43m=\u001B[39;49m\u001B[43mdisable\u001B[49m\u001B[43m,\u001B[49m\n\u001B[1;32m    654\u001B[0m \u001B[43m    \u001B[49m\u001B[43menable\u001B[49m\u001B[38;5;241;43m=\u001B[39;49m\u001B[43menable\u001B[49m\u001B[43m,\u001B[49m\n\u001B[1;32m    655\u001B[0m \u001B[43m    \u001B[49m\u001B[43mexclude\u001B[49m\u001B[38;5;241;43m=\u001B[39;49m\u001B[43mexclude\u001B[49m\u001B[43m,\u001B[49m\n\u001B[1;32m    656\u001B[0m \u001B[43m    \u001B[49m\u001B[43mconfig\u001B[49m\u001B[38;5;241;43m=\u001B[39;49m\u001B[43mconfig\u001B[49m\u001B[43m,\u001B[49m\n\u001B[1;32m    657\u001B[0m \u001B[43m\u001B[49m\u001B[43m)\u001B[49m\n",
      "File \u001B[0;32m~/TextMining/lib/python3.10/site-packages/spacy/util.py:506\u001B[0m, in \u001B[0;36mload_model_from_path\u001B[0;34m(model_path, meta, vocab, disable, enable, exclude, config)\u001B[0m\n\u001B[1;32m    504\u001B[0m overrides \u001B[38;5;241m=\u001B[39m dict_to_dot(config)\n\u001B[1;32m    505\u001B[0m config \u001B[38;5;241m=\u001B[39m load_config(config_path, overrides\u001B[38;5;241m=\u001B[39moverrides)\n\u001B[0;32m--> 506\u001B[0m nlp \u001B[38;5;241m=\u001B[39m \u001B[43mload_model_from_config\u001B[49m\u001B[43m(\u001B[49m\n\u001B[1;32m    507\u001B[0m \u001B[43m    \u001B[49m\u001B[43mconfig\u001B[49m\u001B[43m,\u001B[49m\n\u001B[1;32m    508\u001B[0m \u001B[43m    \u001B[49m\u001B[43mvocab\u001B[49m\u001B[38;5;241;43m=\u001B[39;49m\u001B[43mvocab\u001B[49m\u001B[43m,\u001B[49m\n\u001B[1;32m    509\u001B[0m \u001B[43m    \u001B[49m\u001B[43mdisable\u001B[49m\u001B[38;5;241;43m=\u001B[39;49m\u001B[43mdisable\u001B[49m\u001B[43m,\u001B[49m\n\u001B[1;32m    510\u001B[0m \u001B[43m    \u001B[49m\u001B[43menable\u001B[49m\u001B[38;5;241;43m=\u001B[39;49m\u001B[43menable\u001B[49m\u001B[43m,\u001B[49m\n\u001B[1;32m    511\u001B[0m \u001B[43m    \u001B[49m\u001B[43mexclude\u001B[49m\u001B[38;5;241;43m=\u001B[39;49m\u001B[43mexclude\u001B[49m\u001B[43m,\u001B[49m\n\u001B[1;32m    512\u001B[0m \u001B[43m    \u001B[49m\u001B[43mmeta\u001B[49m\u001B[38;5;241;43m=\u001B[39;49m\u001B[43mmeta\u001B[49m\u001B[43m,\u001B[49m\n\u001B[1;32m    513\u001B[0m \u001B[43m\u001B[49m\u001B[43m)\u001B[49m\n\u001B[1;32m    514\u001B[0m \u001B[38;5;28;01mreturn\u001B[39;00m nlp\u001B[38;5;241m.\u001B[39mfrom_disk(model_path, exclude\u001B[38;5;241m=\u001B[39mexclude, overrides\u001B[38;5;241m=\u001B[39moverrides)\n",
      "File \u001B[0;32m~/TextMining/lib/python3.10/site-packages/spacy/util.py:554\u001B[0m, in \u001B[0;36mload_model_from_config\u001B[0;34m(config, meta, vocab, disable, enable, exclude, auto_fill, validate)\u001B[0m\n\u001B[1;32m    551\u001B[0m \u001B[38;5;66;03m# This will automatically handle all codes registered via the languages\u001B[39;00m\n\u001B[1;32m    552\u001B[0m \u001B[38;5;66;03m# registry, including custom subclasses provided via entry points\u001B[39;00m\n\u001B[1;32m    553\u001B[0m lang_cls \u001B[38;5;241m=\u001B[39m get_lang_class(nlp_config[\u001B[38;5;124m\"\u001B[39m\u001B[38;5;124mlang\u001B[39m\u001B[38;5;124m\"\u001B[39m])\n\u001B[0;32m--> 554\u001B[0m nlp \u001B[38;5;241m=\u001B[39m \u001B[43mlang_cls\u001B[49m\u001B[38;5;241;43m.\u001B[39;49m\u001B[43mfrom_config\u001B[49m\u001B[43m(\u001B[49m\n\u001B[1;32m    555\u001B[0m \u001B[43m    \u001B[49m\u001B[43mconfig\u001B[49m\u001B[43m,\u001B[49m\n\u001B[1;32m    556\u001B[0m \u001B[43m    \u001B[49m\u001B[43mvocab\u001B[49m\u001B[38;5;241;43m=\u001B[39;49m\u001B[43mvocab\u001B[49m\u001B[43m,\u001B[49m\n\u001B[1;32m    557\u001B[0m \u001B[43m    \u001B[49m\u001B[43mdisable\u001B[49m\u001B[38;5;241;43m=\u001B[39;49m\u001B[43mdisable\u001B[49m\u001B[43m,\u001B[49m\n\u001B[1;32m    558\u001B[0m \u001B[43m    \u001B[49m\u001B[43menable\u001B[49m\u001B[38;5;241;43m=\u001B[39;49m\u001B[43menable\u001B[49m\u001B[43m,\u001B[49m\n\u001B[1;32m    559\u001B[0m \u001B[43m    \u001B[49m\u001B[43mexclude\u001B[49m\u001B[38;5;241;43m=\u001B[39;49m\u001B[43mexclude\u001B[49m\u001B[43m,\u001B[49m\n\u001B[1;32m    560\u001B[0m \u001B[43m    \u001B[49m\u001B[43mauto_fill\u001B[49m\u001B[38;5;241;43m=\u001B[39;49m\u001B[43mauto_fill\u001B[49m\u001B[43m,\u001B[49m\n\u001B[1;32m    561\u001B[0m \u001B[43m    \u001B[49m\u001B[43mvalidate\u001B[49m\u001B[38;5;241;43m=\u001B[39;49m\u001B[43mvalidate\u001B[49m\u001B[43m,\u001B[49m\n\u001B[1;32m    562\u001B[0m \u001B[43m    \u001B[49m\u001B[43mmeta\u001B[49m\u001B[38;5;241;43m=\u001B[39;49m\u001B[43mmeta\u001B[49m\u001B[43m,\u001B[49m\n\u001B[1;32m    563\u001B[0m \u001B[43m\u001B[49m\u001B[43m)\u001B[49m\n\u001B[1;32m    564\u001B[0m \u001B[38;5;28;01mreturn\u001B[39;00m nlp\n",
      "File \u001B[0;32m~/TextMining/lib/python3.10/site-packages/spacy/language.py:1803\u001B[0m, in \u001B[0;36mLanguage.from_config\u001B[0;34m(cls, config, vocab, disable, enable, exclude, meta, auto_fill, validate)\u001B[0m\n\u001B[1;32m   1800\u001B[0m     factory \u001B[38;5;241m=\u001B[39m pipe_cfg\u001B[38;5;241m.\u001B[39mpop(\u001B[38;5;124m\"\u001B[39m\u001B[38;5;124mfactory\u001B[39m\u001B[38;5;124m\"\u001B[39m)\n\u001B[1;32m   1801\u001B[0m     \u001B[38;5;66;03m# The pipe name (key in the config) here is the unique name\u001B[39;00m\n\u001B[1;32m   1802\u001B[0m     \u001B[38;5;66;03m# of the component, not necessarily the factory\u001B[39;00m\n\u001B[0;32m-> 1803\u001B[0m     \u001B[43mnlp\u001B[49m\u001B[38;5;241;43m.\u001B[39;49m\u001B[43madd_pipe\u001B[49m\u001B[43m(\u001B[49m\n\u001B[1;32m   1804\u001B[0m \u001B[43m        \u001B[49m\u001B[43mfactory\u001B[49m\u001B[43m,\u001B[49m\n\u001B[1;32m   1805\u001B[0m \u001B[43m        \u001B[49m\u001B[43mname\u001B[49m\u001B[38;5;241;43m=\u001B[39;49m\u001B[43mpipe_name\u001B[49m\u001B[43m,\u001B[49m\n\u001B[1;32m   1806\u001B[0m \u001B[43m        \u001B[49m\u001B[43mconfig\u001B[49m\u001B[38;5;241;43m=\u001B[39;49m\u001B[43mpipe_cfg\u001B[49m\u001B[43m,\u001B[49m\n\u001B[1;32m   1807\u001B[0m \u001B[43m        \u001B[49m\u001B[43mvalidate\u001B[49m\u001B[38;5;241;43m=\u001B[39;49m\u001B[43mvalidate\u001B[49m\u001B[43m,\u001B[49m\n\u001B[1;32m   1808\u001B[0m \u001B[43m        \u001B[49m\u001B[43mraw_config\u001B[49m\u001B[38;5;241;43m=\u001B[39;49m\u001B[43mraw_config\u001B[49m\u001B[43m,\u001B[49m\n\u001B[1;32m   1809\u001B[0m \u001B[43m    \u001B[49m\u001B[43m)\u001B[49m\n\u001B[1;32m   1810\u001B[0m \u001B[38;5;28;01melse\u001B[39;00m:\n\u001B[1;32m   1811\u001B[0m     \u001B[38;5;66;03m# We need the sourced components to reference the same\u001B[39;00m\n\u001B[1;32m   1812\u001B[0m     \u001B[38;5;66;03m# vocab without modifying the current vocab state **AND**\u001B[39;00m\n\u001B[0;32m   (...)\u001B[0m\n\u001B[1;32m   1817\u001B[0m     \u001B[38;5;66;03m# during deserialization, so they do not need any\u001B[39;00m\n\u001B[1;32m   1818\u001B[0m     \u001B[38;5;66;03m# additional handling.\u001B[39;00m\n\u001B[1;32m   1819\u001B[0m     \u001B[38;5;28;01mif\u001B[39;00m vocab_b \u001B[38;5;129;01mis\u001B[39;00m \u001B[38;5;28;01mNone\u001B[39;00m:\n",
      "File \u001B[0;32m~/TextMining/lib/python3.10/site-packages/spacy/language.py:786\u001B[0m, in \u001B[0;36mLanguage.add_pipe\u001B[0;34m(self, factory_name, name, before, after, first, last, source, config, raw_config, validate)\u001B[0m\n\u001B[1;32m    782\u001B[0m     pipe_component, factory_name \u001B[38;5;241m=\u001B[39m \u001B[38;5;28mself\u001B[39m\u001B[38;5;241m.\u001B[39mcreate_pipe_from_source(\n\u001B[1;32m    783\u001B[0m         factory_name, source, name\u001B[38;5;241m=\u001B[39mname\n\u001B[1;32m    784\u001B[0m     )\n\u001B[1;32m    785\u001B[0m \u001B[38;5;28;01melse\u001B[39;00m:\n\u001B[0;32m--> 786\u001B[0m     pipe_component \u001B[38;5;241m=\u001B[39m \u001B[38;5;28;43mself\u001B[39;49m\u001B[38;5;241;43m.\u001B[39;49m\u001B[43mcreate_pipe\u001B[49m\u001B[43m(\u001B[49m\n\u001B[1;32m    787\u001B[0m \u001B[43m        \u001B[49m\u001B[43mfactory_name\u001B[49m\u001B[43m,\u001B[49m\n\u001B[1;32m    788\u001B[0m \u001B[43m        \u001B[49m\u001B[43mname\u001B[49m\u001B[38;5;241;43m=\u001B[39;49m\u001B[43mname\u001B[49m\u001B[43m,\u001B[49m\n\u001B[1;32m    789\u001B[0m \u001B[43m        \u001B[49m\u001B[43mconfig\u001B[49m\u001B[38;5;241;43m=\u001B[39;49m\u001B[43mconfig\u001B[49m\u001B[43m,\u001B[49m\n\u001B[1;32m    790\u001B[0m \u001B[43m        \u001B[49m\u001B[43mraw_config\u001B[49m\u001B[38;5;241;43m=\u001B[39;49m\u001B[43mraw_config\u001B[49m\u001B[43m,\u001B[49m\n\u001B[1;32m    791\u001B[0m \u001B[43m        \u001B[49m\u001B[43mvalidate\u001B[49m\u001B[38;5;241;43m=\u001B[39;49m\u001B[43mvalidate\u001B[49m\u001B[43m,\u001B[49m\n\u001B[1;32m    792\u001B[0m \u001B[43m    \u001B[49m\u001B[43m)\u001B[49m\n\u001B[1;32m    793\u001B[0m pipe_index \u001B[38;5;241m=\u001B[39m \u001B[38;5;28mself\u001B[39m\u001B[38;5;241m.\u001B[39m_get_pipe_index(before, after, first, last)\n\u001B[1;32m    794\u001B[0m \u001B[38;5;28mself\u001B[39m\u001B[38;5;241m.\u001B[39m_pipe_meta[name] \u001B[38;5;241m=\u001B[39m \u001B[38;5;28mself\u001B[39m\u001B[38;5;241m.\u001B[39mget_factory_meta(factory_name)\n",
      "File \u001B[0;32m~/TextMining/lib/python3.10/site-packages/spacy/language.py:679\u001B[0m, in \u001B[0;36mLanguage.create_pipe\u001B[0;34m(self, factory_name, name, config, raw_config, validate)\u001B[0m\n\u001B[1;32m    676\u001B[0m cfg \u001B[38;5;241m=\u001B[39m {factory_name: config}\n\u001B[1;32m    677\u001B[0m \u001B[38;5;66;03m# We're calling the internal _fill here to avoid constructing the\u001B[39;00m\n\u001B[1;32m    678\u001B[0m \u001B[38;5;66;03m# registered functions twice\u001B[39;00m\n\u001B[0;32m--> 679\u001B[0m resolved \u001B[38;5;241m=\u001B[39m \u001B[43mregistry\u001B[49m\u001B[38;5;241;43m.\u001B[39;49m\u001B[43mresolve\u001B[49m\u001B[43m(\u001B[49m\u001B[43mcfg\u001B[49m\u001B[43m,\u001B[49m\u001B[43m \u001B[49m\u001B[43mvalidate\u001B[49m\u001B[38;5;241;43m=\u001B[39;49m\u001B[43mvalidate\u001B[49m\u001B[43m)\u001B[49m\n\u001B[1;32m    680\u001B[0m filled \u001B[38;5;241m=\u001B[39m registry\u001B[38;5;241m.\u001B[39mfill({\u001B[38;5;124m\"\u001B[39m\u001B[38;5;124mcfg\u001B[39m\u001B[38;5;124m\"\u001B[39m: cfg[factory_name]}, validate\u001B[38;5;241m=\u001B[39mvalidate)[\u001B[38;5;124m\"\u001B[39m\u001B[38;5;124mcfg\u001B[39m\u001B[38;5;124m\"\u001B[39m]\n\u001B[1;32m    681\u001B[0m filled \u001B[38;5;241m=\u001B[39m Config(filled)\n",
      "File \u001B[0;32m~/TextMining/lib/python3.10/site-packages/confection/__init__.py:728\u001B[0m, in \u001B[0;36mregistry.resolve\u001B[0;34m(cls, config, schema, overrides, validate)\u001B[0m\n\u001B[1;32m    719\u001B[0m \u001B[38;5;129m@classmethod\u001B[39m\n\u001B[1;32m    720\u001B[0m \u001B[38;5;28;01mdef\u001B[39;00m \u001B[38;5;21mresolve\u001B[39m(\n\u001B[1;32m    721\u001B[0m     \u001B[38;5;28mcls\u001B[39m,\n\u001B[0;32m   (...)\u001B[0m\n\u001B[1;32m    726\u001B[0m     validate: \u001B[38;5;28mbool\u001B[39m \u001B[38;5;241m=\u001B[39m \u001B[38;5;28;01mTrue\u001B[39;00m,\n\u001B[1;32m    727\u001B[0m ) \u001B[38;5;241m-\u001B[39m\u001B[38;5;241m>\u001B[39m Dict[\u001B[38;5;28mstr\u001B[39m, Any]:\n\u001B[0;32m--> 728\u001B[0m     resolved, _ \u001B[38;5;241m=\u001B[39m \u001B[38;5;28;43mcls\u001B[39;49m\u001B[38;5;241;43m.\u001B[39;49m\u001B[43m_make\u001B[49m\u001B[43m(\u001B[49m\n\u001B[1;32m    729\u001B[0m \u001B[43m        \u001B[49m\u001B[43mconfig\u001B[49m\u001B[43m,\u001B[49m\u001B[43m \u001B[49m\u001B[43mschema\u001B[49m\u001B[38;5;241;43m=\u001B[39;49m\u001B[43mschema\u001B[49m\u001B[43m,\u001B[49m\u001B[43m \u001B[49m\u001B[43moverrides\u001B[49m\u001B[38;5;241;43m=\u001B[39;49m\u001B[43moverrides\u001B[49m\u001B[43m,\u001B[49m\u001B[43m \u001B[49m\u001B[43mvalidate\u001B[49m\u001B[38;5;241;43m=\u001B[39;49m\u001B[43mvalidate\u001B[49m\u001B[43m,\u001B[49m\u001B[43m \u001B[49m\u001B[43mresolve\u001B[49m\u001B[38;5;241;43m=\u001B[39;49m\u001B[38;5;28;43;01mTrue\u001B[39;49;00m\n\u001B[1;32m    730\u001B[0m \u001B[43m    \u001B[49m\u001B[43m)\u001B[49m\n\u001B[1;32m    731\u001B[0m     \u001B[38;5;28;01mreturn\u001B[39;00m resolved\n",
      "File \u001B[0;32m~/TextMining/lib/python3.10/site-packages/confection/__init__.py:777\u001B[0m, in \u001B[0;36mregistry._make\u001B[0;34m(cls, config, schema, overrides, resolve, validate)\u001B[0m\n\u001B[1;32m    775\u001B[0m \u001B[38;5;28;01mif\u001B[39;00m \u001B[38;5;129;01mnot\u001B[39;00m is_interpolated:\n\u001B[1;32m    776\u001B[0m     config \u001B[38;5;241m=\u001B[39m Config(orig_config)\u001B[38;5;241m.\u001B[39minterpolate()\n\u001B[0;32m--> 777\u001B[0m filled, _, resolved \u001B[38;5;241m=\u001B[39m \u001B[38;5;28;43mcls\u001B[39;49m\u001B[38;5;241;43m.\u001B[39;49m\u001B[43m_fill\u001B[49m\u001B[43m(\u001B[49m\n\u001B[1;32m    778\u001B[0m \u001B[43m    \u001B[49m\u001B[43mconfig\u001B[49m\u001B[43m,\u001B[49m\u001B[43m \u001B[49m\u001B[43mschema\u001B[49m\u001B[43m,\u001B[49m\u001B[43m \u001B[49m\u001B[43mvalidate\u001B[49m\u001B[38;5;241;43m=\u001B[39;49m\u001B[43mvalidate\u001B[49m\u001B[43m,\u001B[49m\u001B[43m \u001B[49m\u001B[43moverrides\u001B[49m\u001B[38;5;241;43m=\u001B[39;49m\u001B[43moverrides\u001B[49m\u001B[43m,\u001B[49m\u001B[43m \u001B[49m\u001B[43mresolve\u001B[49m\u001B[38;5;241;43m=\u001B[39;49m\u001B[43mresolve\u001B[49m\n\u001B[1;32m    779\u001B[0m \u001B[43m\u001B[49m\u001B[43m)\u001B[49m\n\u001B[1;32m    780\u001B[0m filled \u001B[38;5;241m=\u001B[39m Config(filled, section_order\u001B[38;5;241m=\u001B[39msection_order)\n\u001B[1;32m    781\u001B[0m \u001B[38;5;66;03m# Check that overrides didn't include invalid properties not in config\u001B[39;00m\n",
      "File \u001B[0;32m~/TextMining/lib/python3.10/site-packages/confection/__init__.py:832\u001B[0m, in \u001B[0;36mregistry._fill\u001B[0;34m(cls, config, schema, validate, resolve, parent, overrides)\u001B[0m\n\u001B[1;32m    830\u001B[0m     schema\u001B[38;5;241m.\u001B[39m__fields__[key] \u001B[38;5;241m=\u001B[39m copy_model_field(field, Any)\n\u001B[1;32m    831\u001B[0m promise_schema \u001B[38;5;241m=\u001B[39m \u001B[38;5;28mcls\u001B[39m\u001B[38;5;241m.\u001B[39mmake_promise_schema(value, resolve\u001B[38;5;241m=\u001B[39mresolve)\n\u001B[0;32m--> 832\u001B[0m filled[key], validation[v_key], final[key] \u001B[38;5;241m=\u001B[39m \u001B[38;5;28;43mcls\u001B[39;49m\u001B[38;5;241;43m.\u001B[39;49m\u001B[43m_fill\u001B[49m\u001B[43m(\u001B[49m\n\u001B[1;32m    833\u001B[0m \u001B[43m    \u001B[49m\u001B[43mvalue\u001B[49m\u001B[43m,\u001B[49m\n\u001B[1;32m    834\u001B[0m \u001B[43m    \u001B[49m\u001B[43mpromise_schema\u001B[49m\u001B[43m,\u001B[49m\n\u001B[1;32m    835\u001B[0m \u001B[43m    \u001B[49m\u001B[43mvalidate\u001B[49m\u001B[38;5;241;43m=\u001B[39;49m\u001B[43mvalidate\u001B[49m\u001B[43m,\u001B[49m\n\u001B[1;32m    836\u001B[0m \u001B[43m    \u001B[49m\u001B[43mresolve\u001B[49m\u001B[38;5;241;43m=\u001B[39;49m\u001B[43mresolve\u001B[49m\u001B[43m,\u001B[49m\n\u001B[1;32m    837\u001B[0m \u001B[43m    \u001B[49m\u001B[43mparent\u001B[49m\u001B[38;5;241;43m=\u001B[39;49m\u001B[43mkey_parent\u001B[49m\u001B[43m,\u001B[49m\n\u001B[1;32m    838\u001B[0m \u001B[43m    \u001B[49m\u001B[43moverrides\u001B[49m\u001B[38;5;241;43m=\u001B[39;49m\u001B[43moverrides\u001B[49m\u001B[43m,\u001B[49m\n\u001B[1;32m    839\u001B[0m \u001B[43m\u001B[49m\u001B[43m)\u001B[49m\n\u001B[1;32m    840\u001B[0m reg_name, func_name \u001B[38;5;241m=\u001B[39m \u001B[38;5;28mcls\u001B[39m\u001B[38;5;241m.\u001B[39mget_constructor(final[key])\n\u001B[1;32m    841\u001B[0m args, kwargs \u001B[38;5;241m=\u001B[39m \u001B[38;5;28mcls\u001B[39m\u001B[38;5;241m.\u001B[39mparse_args(final[key])\n",
      "File \u001B[0;32m~/TextMining/lib/python3.10/site-packages/confection/__init__.py:849\u001B[0m, in \u001B[0;36mregistry._fill\u001B[0;34m(cls, config, schema, validate, resolve, parent, overrides)\u001B[0m\n\u001B[1;32m    846\u001B[0m     getter \u001B[38;5;241m=\u001B[39m \u001B[38;5;28mcls\u001B[39m\u001B[38;5;241m.\u001B[39mget(reg_name, func_name)\n\u001B[1;32m    847\u001B[0m     \u001B[38;5;66;03m# We don't want to try/except this and raise our own error\u001B[39;00m\n\u001B[1;32m    848\u001B[0m     \u001B[38;5;66;03m# here, because we want the traceback if the function fails.\u001B[39;00m\n\u001B[0;32m--> 849\u001B[0m     getter_result \u001B[38;5;241m=\u001B[39m \u001B[43mgetter\u001B[49m\u001B[43m(\u001B[49m\u001B[38;5;241;43m*\u001B[39;49m\u001B[43margs\u001B[49m\u001B[43m,\u001B[49m\u001B[43m \u001B[49m\u001B[38;5;241;43m*\u001B[39;49m\u001B[38;5;241;43m*\u001B[39;49m\u001B[43mkwargs\u001B[49m\u001B[43m)\u001B[49m\n\u001B[1;32m    850\u001B[0m \u001B[38;5;28;01melse\u001B[39;00m:\n\u001B[1;32m    851\u001B[0m     \u001B[38;5;66;03m# We're not resolving and calling the function, so replace\u001B[39;00m\n\u001B[1;32m    852\u001B[0m     \u001B[38;5;66;03m# the getter_result with a Promise class\u001B[39;00m\n\u001B[1;32m    853\u001B[0m     getter_result \u001B[38;5;241m=\u001B[39m Promise(\n\u001B[1;32m    854\u001B[0m         registry\u001B[38;5;241m=\u001B[39mreg_name, name\u001B[38;5;241m=\u001B[39mfunc_name, args\u001B[38;5;241m=\u001B[39margs, kwargs\u001B[38;5;241m=\u001B[39mkwargs\n\u001B[1;32m    855\u001B[0m     )\n",
      "File \u001B[0;32m~/TextMining/lib/python3.10/site-packages/spacy/ml/models/parser.py:87\u001B[0m, in \u001B[0;36mbuild_tb_parser_model\u001B[0;34m(tok2vec, state_type, extra_state_tokens, hidden_width, maxout_pieces, use_upper, nO)\u001B[0m\n\u001B[1;32m     85\u001B[0m upper \u001B[38;5;241m=\u001B[39m \u001B[38;5;28;01mNone\u001B[39;00m\n\u001B[1;32m     86\u001B[0m \u001B[38;5;28;01mif\u001B[39;00m use_upper:\n\u001B[0;32m---> 87\u001B[0m     \u001B[38;5;28;01mwith\u001B[39;00m use_ops(\u001B[38;5;124m\"\u001B[39m\u001B[38;5;124mcpu\u001B[39m\u001B[38;5;124m\"\u001B[39m):\n\u001B[1;32m     88\u001B[0m         \u001B[38;5;66;03m# Initialize weights at zero, as it's a classification layer.\u001B[39;00m\n\u001B[1;32m     89\u001B[0m         upper \u001B[38;5;241m=\u001B[39m _define_upper(nO\u001B[38;5;241m=\u001B[39mnO, nI\u001B[38;5;241m=\u001B[39m\u001B[38;5;28;01mNone\u001B[39;00m)\n\u001B[1;32m     90\u001B[0m \u001B[38;5;28;01mreturn\u001B[39;00m TransitionModel(tok2vec, lower, upper, resize_output)\n",
      "File \u001B[0;32m/Library/Frameworks/Python.framework/Versions/3.10/lib/python3.10/contextlib.py:135\u001B[0m, in \u001B[0;36m_GeneratorContextManager.__enter__\u001B[0;34m(self)\u001B[0m\n\u001B[1;32m    133\u001B[0m \u001B[38;5;28;01mdel\u001B[39;00m \u001B[38;5;28mself\u001B[39m\u001B[38;5;241m.\u001B[39margs, \u001B[38;5;28mself\u001B[39m\u001B[38;5;241m.\u001B[39mkwds, \u001B[38;5;28mself\u001B[39m\u001B[38;5;241m.\u001B[39mfunc\n\u001B[1;32m    134\u001B[0m \u001B[38;5;28;01mtry\u001B[39;00m:\n\u001B[0;32m--> 135\u001B[0m     \u001B[38;5;28;01mreturn\u001B[39;00m \u001B[38;5;28;43mnext\u001B[39;49m\u001B[43m(\u001B[49m\u001B[38;5;28;43mself\u001B[39;49m\u001B[38;5;241;43m.\u001B[39;49m\u001B[43mgen\u001B[49m\u001B[43m)\u001B[49m\n\u001B[1;32m    136\u001B[0m \u001B[38;5;28;01mexcept\u001B[39;00m \u001B[38;5;167;01mStopIteration\u001B[39;00m:\n\u001B[1;32m    137\u001B[0m     \u001B[38;5;28;01mraise\u001B[39;00m \u001B[38;5;167;01mRuntimeError\u001B[39;00m(\u001B[38;5;124m\"\u001B[39m\u001B[38;5;124mgenerator didn\u001B[39m\u001B[38;5;124m'\u001B[39m\u001B[38;5;124mt yield\u001B[39m\u001B[38;5;124m\"\u001B[39m) \u001B[38;5;28;01mfrom\u001B[39;00m \u001B[38;5;28mNone\u001B[39m\n",
      "File \u001B[0;32m~/TextMining/lib/python3.10/site-packages/thinc/backends/__init__.py:124\u001B[0m, in \u001B[0;36muse_ops\u001B[0;34m(name, **kwargs)\u001B[0m\n\u001B[1;32m    122\u001B[0m \u001B[38;5;250m\u001B[39m\u001B[38;5;124;03m\"\"\"Change the backend to execute on for the scope of the block.\"\"\"\u001B[39;00m\n\u001B[1;32m    123\u001B[0m current_ops \u001B[38;5;241m=\u001B[39m get_current_ops()\n\u001B[0;32m--> 124\u001B[0m set_current_ops(\u001B[43mget_ops\u001B[49m\u001B[43m(\u001B[49m\u001B[43mname\u001B[49m\u001B[43m,\u001B[49m\u001B[43m \u001B[49m\u001B[38;5;241;43m*\u001B[39;49m\u001B[38;5;241;43m*\u001B[39;49m\u001B[43mkwargs\u001B[49m\u001B[43m)\u001B[49m)\n\u001B[1;32m    125\u001B[0m \u001B[38;5;28;01mtry\u001B[39;00m:\n\u001B[1;32m    126\u001B[0m     \u001B[38;5;28;01myield\u001B[39;00m\n",
      "File \u001B[0;32m~/TextMining/lib/python3.10/site-packages/thinc/backends/__init__.py:95\u001B[0m, in \u001B[0;36mget_ops\u001B[0;34m(name, **kwargs)\u001B[0m\n\u001B[1;32m     90\u001B[0m \u001B[38;5;28;01mdef\u001B[39;00m \u001B[38;5;21mget_ops\u001B[39m(name: \u001B[38;5;28mstr\u001B[39m, \u001B[38;5;241m*\u001B[39m\u001B[38;5;241m*\u001B[39mkwargs) \u001B[38;5;241m-\u001B[39m\u001B[38;5;241m>\u001B[39m Ops:\n\u001B[1;32m     91\u001B[0m \u001B[38;5;250m    \u001B[39m\u001B[38;5;124;03m\"\"\"Get a backend object.\u001B[39;00m\n\u001B[1;32m     92\u001B[0m \n\u001B[1;32m     93\u001B[0m \u001B[38;5;124;03m    The special name \"cpu\" returns the best available CPU backend.\"\"\"\u001B[39;00m\n\u001B[0;32m---> 95\u001B[0m     ops_by_name \u001B[38;5;241m=\u001B[39m {ops_cls\u001B[38;5;241m.\u001B[39mname: ops_cls \u001B[38;5;28;01mfor\u001B[39;00m ops_cls \u001B[38;5;129;01min\u001B[39;00m \u001B[43mregistry\u001B[49m\u001B[38;5;241;43m.\u001B[39;49m\u001B[43mops\u001B[49m\u001B[38;5;241;43m.\u001B[39;49m\u001B[43mget_all\u001B[49m\u001B[43m(\u001B[49m\u001B[43m)\u001B[49m\u001B[38;5;241m.\u001B[39mvalues()}  \u001B[38;5;66;03m# type: ignore\u001B[39;00m\n\u001B[1;32m     97\u001B[0m     \u001B[38;5;28mcls\u001B[39m: Optional[Callable[\u001B[38;5;241m.\u001B[39m\u001B[38;5;241m.\u001B[39m\u001B[38;5;241m.\u001B[39m, Ops]] \u001B[38;5;241m=\u001B[39m \u001B[38;5;28;01mNone\u001B[39;00m\n\u001B[1;32m     98\u001B[0m     \u001B[38;5;28;01mif\u001B[39;00m name \u001B[38;5;241m==\u001B[39m \u001B[38;5;124m\"\u001B[39m\u001B[38;5;124mcpu\u001B[39m\u001B[38;5;124m\"\u001B[39m:\n",
      "File \u001B[0;32m~/TextMining/lib/python3.10/site-packages/catalogue/__init__.py:121\u001B[0m, in \u001B[0;36mRegistry.get_all\u001B[0;34m(self)\u001B[0m\n\u001B[1;32m    119\u001B[0m     result\u001B[38;5;241m.\u001B[39mupdate(\u001B[38;5;28mself\u001B[39m\u001B[38;5;241m.\u001B[39mget_entry_points())\n\u001B[1;32m    120\u001B[0m \u001B[38;5;28;01mfor\u001B[39;00m keys, value \u001B[38;5;129;01min\u001B[39;00m REGISTRY\u001B[38;5;241m.\u001B[39mcopy()\u001B[38;5;241m.\u001B[39mitems():\n\u001B[0;32m--> 121\u001B[0m     \u001B[38;5;28;01mif\u001B[39;00m \u001B[38;5;28mlen\u001B[39m(\u001B[38;5;28mself\u001B[39m\u001B[38;5;241m.\u001B[39mnamespace) \u001B[38;5;241m==\u001B[39m \u001B[38;5;28mlen\u001B[39m(keys) \u001B[38;5;241m-\u001B[39m \u001B[38;5;241m1\u001B[39m \u001B[38;5;129;01mand\u001B[39;00m \u001B[38;5;28;43mall\u001B[39;49m\u001B[43m(\u001B[49m\n\u001B[1;32m    122\u001B[0m \u001B[43m        \u001B[49m\u001B[38;5;28;43mself\u001B[39;49m\u001B[38;5;241;43m.\u001B[39;49m\u001B[43mnamespace\u001B[49m\u001B[43m[\u001B[49m\u001B[43mi\u001B[49m\u001B[43m]\u001B[49m\u001B[43m \u001B[49m\u001B[38;5;241;43m==\u001B[39;49m\u001B[43m \u001B[49m\u001B[43mkeys\u001B[49m\u001B[43m[\u001B[49m\u001B[43mi\u001B[49m\u001B[43m]\u001B[49m\u001B[43m \u001B[49m\u001B[38;5;28;43;01mfor\u001B[39;49;00m\u001B[43m \u001B[49m\u001B[43mi\u001B[49m\u001B[43m \u001B[49m\u001B[38;5;129;43;01min\u001B[39;49;00m\u001B[43m \u001B[49m\u001B[38;5;28;43mrange\u001B[39;49m\u001B[43m(\u001B[49m\u001B[38;5;28;43mlen\u001B[39;49m\u001B[43m(\u001B[49m\u001B[38;5;28;43mself\u001B[39;49m\u001B[38;5;241;43m.\u001B[39;49m\u001B[43mnamespace\u001B[49m\u001B[43m)\u001B[49m\u001B[43m)\u001B[49m\n\u001B[1;32m    123\u001B[0m \u001B[43m    \u001B[49m\u001B[43m)\u001B[49m:\n\u001B[1;32m    124\u001B[0m         result[keys[\u001B[38;5;241m-\u001B[39m\u001B[38;5;241m1\u001B[39m]] \u001B[38;5;241m=\u001B[39m value\n\u001B[1;32m    125\u001B[0m \u001B[38;5;28;01mreturn\u001B[39;00m result\n",
      "\u001B[0;31mKeyboardInterrupt\u001B[0m: "
     ]
    }
   ],
   "source": [
    "# run vader on the set of airline tweets\n",
    "tweets = []\n",
    "all_vader_output = []\n",
    "gold = []\n",
    "\n",
    "for i, tweet in enumerate(airline_tweets_train.data):\n",
    "    tweets.append(tweet.decode('utf-8'))\n",
    "    vader_output = run_vader(tweet.decode('utf-8'))\n",
    "    vader_label = vader_output_to_label(vader_output)\n",
    "    all_vader_output.append(vader_label)\n",
    "    gold.append(airline_tweets_train.target_names[airline_tweets_train.target[i]])\n",
    "\n",
    "from sklearn.metrics import classification_report\n",
    "print(\"VADER (as it is) on the set of airline tweets Classification Report\")\n",
    "print(classification_report(gold, all_vader_output))"
   ]
  },
  {
   "cell_type": "code",
   "execution_count": null,
   "outputs": [],
   "source": [
    "# run vader on the set of airline tweets after having lemmatized the text\n",
    "all_vader_output = []\n",
    "gold = []\n",
    "\n",
    "for i, tweet in enumerate(airline_tweets_train.data):\n",
    "    vader_output = run_vader(tweet.decode('utf-8'), lemmatize=True)\n",
    "    vader_label = vader_output_to_label(vader_output)\n",
    "    all_vader_output.append(vader_label)\n",
    "    gold.append(airline_tweets_train.target_names[airline_tweets_train.target[i]])\n",
    "\n",
    "\n",
    "print(\"VADER on the set of airline tweets after having lemmatized the text Classification Report\")\n",
    "print(classification_report(gold, all_vader_output))"
   ],
   "metadata": {
    "collapsed": false
   }
  },
  {
   "cell_type": "code",
   "execution_count": null,
   "outputs": [],
   "source": [
    "# run vader on the set of airline tweets with only adjectives\n",
    "all_vader_output = []\n",
    "gold = []\n",
    "\n",
    "for i, tweet in enumerate(airline_tweets_train.data):\n",
    "    vader_output = run_vader(tweet.decode('utf-8'), pos='ADJ')\n",
    "    vader_label = vader_output_to_label(vader_output)\n",
    "    all_vader_output.append(vader_label)\n",
    "    gold.append(airline_tweets_train.target_names[airline_tweets_train.target[i]])\n",
    "\n",
    "\n",
    "print(\"VADER on the set of airline tweets with only adjectives Classification Report\")\n",
    "print(classification_report(gold, all_vader_output))"
   ],
   "metadata": {
    "collapsed": false
   }
  },
  {
   "cell_type": "code",
   "execution_count": null,
   "outputs": [],
   "source": [
    "# run vader on the set of airline tweets with only adjectives and after having lemmatized the text\n",
    "all_vader_output = []\n",
    "gold = []\n",
    "\n",
    "for i, tweet in enumerate(airline_tweets_train.data):\n",
    "    vader_output = run_vader(tweet.decode('utf-8'), pos='ADJ', lemmatize=True)\n",
    "    vader_label = vader_output_to_label(vader_output)\n",
    "    all_vader_output.append(vader_label)\n",
    "    gold.append(airline_tweets_train.target_names[airline_tweets_train.target[i]])\n",
    "\n",
    "\n",
    "print(\"VADER on the set of airline tweets with only adjectives and after having lemmatized the text Classification Report\")\n",
    "print(classification_report(gold, all_vader_output))"
   ],
   "metadata": {
    "collapsed": false
   }
  },
  {
   "cell_type": "code",
   "execution_count": null,
   "outputs": [],
   "source": [
    "# run vader on the set of airline tweets with only nouns\n",
    "all_vader_output = []\n",
    "gold = []\n",
    "\n",
    "for i, tweet in enumerate(airline_tweets_train.data):\n",
    "    vader_output = run_vader(tweet.decode('utf-8'), pos='NOUN')\n",
    "    vader_label = vader_output_to_label(vader_output)\n",
    "    all_vader_output.append(vader_label)\n",
    "    gold.append(airline_tweets_train.target_names[airline_tweets_train.target[i]])\n",
    "\n",
    "\n",
    "print(\"VADER on the set of airline tweets with only nouns Classification Report\")\n",
    "print(classification_report(gold, all_vader_output))\n"
   ],
   "metadata": {
    "collapsed": false
   }
  },
  {
   "cell_type": "code",
   "execution_count": null,
   "outputs": [],
   "source": [
    "# run vader on the set of airline tweets with only nouns and after having lemmatized the text\n",
    "all_vader_output = []\n",
    "gold = []\n",
    "\n",
    "for i, tweet in enumerate(airline_tweets_train.data):\n",
    "    vader_output = run_vader(tweet.decode('utf-8'), pos='NOUN', lemmatize=True)\n",
    "    vader_label = vader_output_to_label(vader_output)\n",
    "    all_vader_output.append(vader_label)\n",
    "    gold.append(airline_tweets_train.target_names[airline_tweets_train.target[i]])\n",
    "\n",
    "\n",
    "print(\"VADER on the set of airline tweets with only nouns and after having lemmatized the text Classification Report\")\n",
    "print(classification_report(gold, all_vader_output))\n"
   ],
   "metadata": {
    "collapsed": false
   }
  },
  {
   "cell_type": "code",
   "execution_count": null,
   "outputs": [],
   "source": [
    "# run vader on the set of airline tweets with only verbs\n",
    "all_vader_output = []\n",
    "gold = []\n",
    "\n",
    "for i, tweet in enumerate(airline_tweets_train.data):\n",
    "    vader_output = run_vader(tweet.decode('utf-8'), pos='VERB')\n",
    "    vader_label = vader_output_to_label(vader_output)\n",
    "    all_vader_output.append(vader_label)\n",
    "    gold.append(airline_tweets_train.target_names[airline_tweets_train.target[i]])\n",
    "\n",
    "\n",
    "print(\"VADER on the set of airline tweets with only verbs Classification Report\")\n",
    "print(classification_report(gold, all_vader_output))"
   ],
   "metadata": {
    "collapsed": false
   }
  },
  {
   "cell_type": "code",
   "execution_count": null,
   "outputs": [],
   "source": [
    "# run vader on the set of airline tweets with only verbs and after having lemmatized the text\n",
    "all_vader_output = []\n",
    "gold = []\n",
    "\n",
    "for i, tweet in enumerate(airline_tweets_train.data):\n",
    "    vader_output = run_vader(tweet.decode('utf-8'), pos='VERB', lemmatize=True)\n",
    "    vader_label = vader_output_to_label(vader_output)\n",
    "    all_vader_output.append(vader_label)\n",
    "    gold.append(airline_tweets_train.target_names[airline_tweets_train.target[i]])\n",
    "\n",
    "\n",
    "print(\"VADER on the set of airline tweets with only verbs and after having lemmatized the text Classification Report\")\n",
    "print(classification_report(gold, all_vader_output))"
   ],
   "metadata": {
    "collapsed": false
   }
  },
  {
   "cell_type": "markdown",
   "source": [
    "b. Compare the scores and explain what they tell you.\n",
    "* - Does lemmatisation help? Explain why or why not.\n",
    "* - Are all parts of speech equally important for sentiment analysis? Explain why or why not."
   ],
   "metadata": {
    "collapsed": false
   }
  },
  {
   "cell_type": "markdown",
   "metadata": {},
   "source": [
    "## Part II: scikit-learn assignments\n",
    "### [4 points] Question 5\n",
    "Train the scikit-learn classifier (Naive Bayes) using the airline tweets.\n",
    "\n",
    "+ Train the model on the airline tweets with 80% training and 20% test set and default settings (TF-IDF representation, min_df=2)\n",
    "+ Train with different settings:\n",
    "    + with respect to vectorizing: TF-IDF ('airline_tfidf') vs. Bag of words representation ('airline_count') \n",
    "    + with respect to the frequency threshold (min_df). Carry out experiments with increasing values for document frequency (min_df = 2; min_df = 5; min_df =10) \n",
    "* [1 point] a. Generate a classification_report for all experiments\n",
    "* [3 points] b. Look at the results of the experiments with the different settings and try to explain why they differ: \n",
    "    + which category performs best, is this the case for any setting?\n",
    "    + does the frequency threshold affect the scores? Why or why not according to you?"
   ]
  },
  {
   "cell_type": "code",
   "execution_count": null,
   "metadata": {},
   "outputs": [],
   "source": [
    "from sklearn.naive_bayes import MultinomialNB\n",
    "from sklearn.model_selection import train_test_split\n",
    "from nltk.corpus import stopwords\n",
    "import nltk\n",
    "from sklearn.feature_extraction.text import CountVectorizer, TfidfTransformer\n",
    "\n",
    "airline_vec = CountVectorizer(min_df=2, # If a token appears fewer times than this, across all documents, it will be ignored\n",
    "                             tokenizer=nltk.word_tokenize, # we use the nltk tokenizer\n",
    "                             stop_words=stopwords.words('english')) # stopwords are removed\n",
    "#  bag of words representation of the airline tweets\n",
    "airline_counts = airline_vec.fit_transform(airline_tweets_train.data)\n",
    "\n",
    "docs_train, docs_test, y_train, y_test = train_test_split(\n",
    "    airline_counts, # the tf-idf model\n",
    "    airline_tweets_train.target, # the category values for each tweet\n",
    "    test_size = 0.20 # we use 80% for training and 20% for development\n",
    "    )\n",
    "\n",
    "clf = MultinomialNB().fit(docs_train, y_train)\n",
    "y_pred = clf.predict(docs_test)\n",
    "\n",
    "print(\"Classification report for the Naive Bayes classifier on the airline tweets with 80% training and 20% test set and default settings (TF-IDF representation, min_df=2)\")\n",
    "print(classification_report(y_test, y_pred, target_names=airline_tweets_train.target_names))"
   ]
  },
  {
   "cell_type": "code",
   "execution_count": null,
   "outputs": [],
   "source": [
    "# TF-IDF representation of the airline tweets\n",
    "tfidf_transformer = TfidfTransformer()\n",
    "airline_tfidf = tfidf_transformer.fit_transform(airline_counts)\n",
    "docs_train2, docs_test2, y_train2, y_test2 = train_test_split(\n",
    "    airline_tfidf, # the tf-idf model\n",
    "    airline_tweets_train.target, # the category values for each tweet\n",
    "    test_size = 0.20 # we use 80% for training and 20% for development\n",
    "    )\n",
    "clf2 = MultinomialNB().fit(docs_train2, y_train2)\n",
    "y_pred2 = clf2.predict(docs_test2)\n",
    "\n",
    "print(\"Classification report for the Naive Bayes classifier on the airline tweets with 80% training and 20% test set and default settings (TF-IDF representation, min_df=2)\")\n",
    "print(classification_report(y_test2, y_pred2, target_names=airline_tweets_train.target_names))"
   ],
   "metadata": {
    "collapsed": false
   }
  },
  {
   "cell_type": "code",
   "execution_count": null,
   "outputs": [],
   "source": [
    "# TF-IDF representation of the airline tweets with min_df=5\n",
    "airline_vec = CountVectorizer(min_df=5, # If a token appears fewer times than this, across all documents, it will be ignored\n",
    "                             tokenizer=nltk.word_tokenize, # we use the nltk tokenizer\n",
    "                             stop_words=stopwords.words('english')) # stopwords are removed\n",
    "#  bag of words representation of the airline tweets\n",
    "airline_counts = airline_vec.fit_transform(airline_tweets_train.data)\n",
    "\n",
    "tfidf_transformer = TfidfTransformer()\n",
    "airline_tfidf = tfidf_transformer.fit_transform(airline_counts)\n",
    "docs_train3, docs_test3, y_train3, y_test3 = train_test_split(\n",
    "    airline_tfidf, # the tf-idf model\n",
    "    airline_tweets_train.target, # the category values for each tweet\n",
    "    test_size = 0.20 # we use 80% for training and 20% for development\n",
    "    )\n",
    "clf3 = MultinomialNB().fit(docs_train3, y_train3)\n",
    "y_pred3 = clf3.predict(docs_test3)\n",
    "\n",
    "print(\"Classification report for the Naive Bayes classifier on the airline tweets with 80% training and 20% test set and default settings (TF-IDF representation, min_df=5)\")\n",
    "print(classification_report(y_test3, y_pred3, target_names=airline_tweets_train.target_names))"
   ],
   "metadata": {
    "collapsed": false
   }
  },
  {
   "cell_type": "code",
   "execution_count": null,
   "outputs": [],
   "source": [
    "# TF-IDF representation of the airline tweets with min_df=10\n",
    "airline_vec = CountVectorizer(min_df=10, # If a token appears fewer times than this, across all documents, it will be ignored\n",
    "                             tokenizer=nltk.word_tokenize, # we use the nltk tokenizer\n",
    "                             stop_words=stopwords.words('english')) # stopwords are removed\n",
    "#  bag of words representation of the airline tweets\n",
    "airline_counts = airline_vec.fit_transform(airline_tweets_train.data)\n",
    "\n",
    "tfidf_transformer = TfidfTransformer()\n",
    "airline_tfidf = tfidf_transformer.fit_transform(airline_counts)\n",
    "docs_train4, docs_test4, y_train4, y_test4 = train_test_split(\n",
    "    airline_tfidf, # the tf-idf model\n",
    "    airline_tweets_train.target, # the category values for each tweet\n",
    "    test_size = 0.20 # we use 80% for training and 20% for development\n",
    "    )\n",
    "clf4 = MultinomialNB().fit(docs_train4, y_train4)\n",
    "y_pred4 = clf4.predict(docs_test4)\n",
    "\n",
    "print(\"Classification report for the Naive Bayes classifier on the airline tweets with 80% training and 20% test set and default settings (TF-IDF representation, min_df=10)\")\n",
    "print(classification_report(y_test4, y_pred4, target_names=airline_tweets_train.target_names))\n"
   ],
   "metadata": {
    "collapsed": false
   }
  },
  {
   "cell_type": "markdown",
   "source": [
    "* [3 points] b. Look at the results of the experiments with the different settings and try to explain why they differ:\n",
    "    + which category performs best, is this the case for any setting?\n",
    "    + does the frequency threshold affect the scores? Why or why not according to you?\n",
    "\n",
    "Answer:"
   ],
   "metadata": {
    "collapsed": false
   }
  },
  {
   "cell_type": "markdown",
   "metadata": {},
   "source": [
    "### [4 points] Question 6: Inspecting the best scoring features \n",
    "\n",
    "+ Train the scikit-learn classifier (Naive Bayes) model with the following settings (airline tweets 80% training and 20% test;  Bag of words representation ('airline_count'), min_df=2)\n",
    "* [1 point] a. Generate the list of best scoring features per class (see function **important_features_per_class** below) [1 point]\n",
    "* [3 points] b. Look at the lists and consider the following issues: \n",
    "    + [1 point] Which features did you expect for each separate class and why?\n",
    "    + [1 point] Which features did you not expect and why ? \n",
    "    + [1 point] The list contains all kinds of words such as names of airlines, punctuation, numbers and content words (e.g., 'delay' and 'bad'). Which words would you remove or keep when trying to improve the model and why? "
   ]
  },
  {
   "cell_type": "code",
   "execution_count": null,
   "metadata": {},
   "outputs": [],
   "source": [
    "def important_features_per_class(vectorizer,classifier,n=80):\n",
    "    class_labels = classifier.classes_\n",
    "    feature_names =vectorizer.get_feature_names()\n",
    "    topn_class1 = sorted(zip(classifier.feature_count_[0], feature_names),reverse=True)[:n]\n",
    "    topn_class2 = sorted(zip(classifier.feature_count_[1], feature_names),reverse=True)[:n]\n",
    "    topn_class3 = sorted(zip(classifier.feature_count_[2], feature_names),reverse=True)[:n]\n",
    "    print(\"Important words in negative documents\")\n",
    "    for coef, feat in topn_class1:\n",
    "        print(class_labels[0], coef, feat)\n",
    "    print(\"-----------------------------------------\")\n",
    "    print(\"Important words in neutral documents\")\n",
    "    for coef, feat in topn_class2:\n",
    "        print(class_labels[1], coef, feat) \n",
    "    print(\"-----------------------------------------\")\n",
    "    print(\"Important words in positive documents\")\n",
    "    for coef, feat in topn_class3:\n",
    "        print(class_labels[2], coef, feat) \n",
    "\n",
    "# example of how to call from notebook:\n",
    "\n",
    "airline_vec = CountVectorizer(min_df=2, # If a token appears fewer times than this, across all documents, it will be ignored\n",
    "                             tokenizer=nltk.word_tokenize, # we use the nltk tokenizer\n",
    "                             stop_words=stopwords.words('english')) # stopwords are removed\n",
    "#  bag of words representation of the airline tweets\n",
    "airline_counts = airline_vec.fit_transform(airline_tweets_train.data)\n",
    "\n",
    "docs_train, docs_test, y_train, y_test = train_test_split(\n",
    "    airline_counts, # the bag of words model\n",
    "    airline_tweets_train.target, # the category values for each tweet\n",
    "    test_size = 0.20 # we use 80% for training and 20% for development\n",
    "    )\n",
    "\n",
    "clf = MultinomialNB().fit(docs_train, y_train)\n",
    "y_pred = clf.predict(docs_test)\n",
    "important_features_per_class(airline_vec, clf)"
   ]
  },
  {
   "cell_type": "markdown",
   "metadata": {},
   "source": [
    "### [Optional! (will not  be graded)] Question 7\n",
    "Train the model on airline tweets and test it on your own set of tweets\n",
    "+ Train the model with the following settings (airline tweets 80% training and 20% test;  Bag of words representation ('airline_count'), min_df=2)\n",
    "+ Apply the model on your own set of tweets and generate the classification report\n",
    "* [1 point] a. Carry out a quantitative analysis.\n",
    "* [1 point] b. Carry out an error analysis on 10 correctly and 10 incorrectly classified tweets and discuss them\n",
    "* [2 points] c. Compare the results (cf. classification report) with the results obtained by VADER on the same tweets and discuss the differences."
   ]
  },
  {
   "cell_type": "markdown",
   "metadata": {},
   "source": [
    "### [Optional! (will not be graded)] Question 8: trying to improve the model\n",
    "* [2 points] a. Think of some ways to improve the scikit-learn Naive Bayes model by playing with the settings or applying linguistic preprocessing (e.g., by filtering on part-of-speech, or removing punctuation). Do not change the classifier but continue using the Naive Bayes classifier. Explain what the effects might be of these other settings \n",
    "+ [1 point] b. Apply the model with at least one new setting (train on the airline tweets using 80% training, 20% test) and generate the scores\n",
    "* [1 point] c. Discuss whether the model achieved what you expected."
   ]
  },
  {
   "cell_type": "markdown",
   "metadata": {},
   "source": [
    "## End of this notebook"
   ]
  },
  {
   "cell_type": "code",
   "execution_count": null,
   "metadata": {},
   "outputs": [],
   "source": []
  }
 ],
 "metadata": {
  "kernelspec": {
   "display_name": "Python 3",
   "language": "python",
   "name": "python3"
  },
  "language_info": {
   "codemirror_mode": {
    "name": "ipython",
    "version": 3
   },
   "file_extension": ".py",
   "mimetype": "text/x-python",
   "name": "python",
   "nbconvert_exporter": "python",
   "pygments_lexer": "ipython3",
   "version": "3.7.4"
  }
 },
 "nbformat": 4,
 "nbformat_minor": 4
}
